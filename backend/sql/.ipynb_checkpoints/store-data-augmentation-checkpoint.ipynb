{
 "cells": [
  {
   "cell_type": "markdown",
   "id": "c5b0756f-409a-4640-a30b-4f5c9331bdf3",
   "metadata": {},
   "source": [
    "## Test"
   ]
  },
  {
   "cell_type": "code",
   "execution_count": 1,
   "id": "d4488563-7082-424e-a376-a0117b788b18",
   "metadata": {},
   "outputs": [],
   "source": [
    "from faker import Faker\n",
    "\n"
   ]
  },
  {
   "cell_type": "code",
   "execution_count": 2,
   "id": "f9ff32d0-4809-4b36-84b4-a5993f789591",
   "metadata": {},
   "outputs": [],
   "source": [
    "fake = Faker()"
   ]
  },
  {
   "cell_type": "code",
   "execution_count": 10,
   "id": "8234d227-1cfa-42fa-bc57-6b00403ca7a1",
   "metadata": {},
   "outputs": [
    {
     "data": {
      "text/plain": [
       "'Jeffery Brown'"
      ]
     },
     "execution_count": 10,
     "metadata": {},
     "output_type": "execute_result"
    }
   ],
   "source": [
    "fake.name()"
   ]
  },
  {
   "cell_type": "code",
   "execution_count": null,
   "id": "47bc1c99-83bc-4447-9deb-f16019811a89",
   "metadata": {},
   "outputs": [],
   "source": [
    "# for i in range(600,699):\n",
    "#     print(i)"
   ]
  },
  {
   "cell_type": "markdown",
   "id": "8184f60d-3347-4923-b5ec-111938848e40",
   "metadata": {},
   "source": [
    "## Import lib"
   ]
  },
  {
   "cell_type": "code",
   "execution_count": 102,
   "id": "17781115-065d-4bd7-afcf-399179012539",
   "metadata": {},
   "outputs": [],
   "source": [
    "from faker import Faker\n",
    "import mysql.connector\n",
    "import random\n",
    "import datetime"
   ]
  },
  {
   "cell_type": "markdown",
   "id": "1f9d4dd4-9ead-42b8-a792-3dbdbe28d5ed",
   "metadata": {},
   "source": [
    "### Utilizations function"
   ]
  },
  {
   "cell_type": "code",
   "execution_count": 159,
   "id": "35614df1-b737-43c1-bc65-62cc5efaef56",
   "metadata": {},
   "outputs": [],
   "source": [
    "# Establish the connection\n",
    "conn = mysql.connector.connect(\n",
    "    host=\"localhost\",\n",
    "    user=\"admin\",\n",
    "    password=\"admin\",\n",
    "    database=\"cutepet_sql\"\n",
    ")\n",
    "# cursor object allows you to execute SQL queries:\n",
    "cursor = conn.cursor()"
   ]
  },
  {
   "cell_type": "code",
   "execution_count": 233,
   "id": "63ee0c69-1efe-4723-952b-af8272fa1d6a",
   "metadata": {},
   "outputs": [],
   "source": [
    "import pymongo\n",
    "\n",
    "myclient = pymongo.MongoClient(\"mongodb://localhost:27017/\")\n",
    "mydb = myclient[\"cutepet_nonsql\"]\n",
    "mycolService = mydb[\"DichVuCuaCuaHang\"]\n"
   ]
  },
  {
   "cell_type": "code",
   "execution_count": 160,
   "id": "406daae8-8f06-438e-bf08-a044a8ab4e55",
   "metadata": {},
   "outputs": [],
   "source": [
    "def getAllUserNameInDb():\n",
    "    sql = 'select tai_khoan from NguoiDung'\n",
    "    cursor.execute(sql)\n",
    "    list_of_name = cursor.fetchall()\n",
    "    return [ele[0] for ele in list_of_name]\n",
    "\n",
    "list_of_existed_username = getAllUserNameInDb()"
   ]
  },
  {
   "cell_type": "code",
   "execution_count": 164,
   "id": "1a57fd8e-a6b6-48dc-a4fc-6bc0ecf9c3d3",
   "metadata": {},
   "outputs": [],
   "source": [
    "def getNameAndUsername():\n",
    "    isMale = random.randint(0,1)\n",
    "    name = fake.name_male() if isMale==1 else fake.name_female()\n",
    "    username = name.replace(\" \", \"\").lower()\n",
    "    while username in list_of_existed_username:\n",
    "        name = fake.name_male() if isMale==1 else fake.name_female()\n",
    "        username = name.replace(\" \", \"\").lower()\n",
    "    name+= ' Shop'\n",
    "    username = name.replace(\" \", \"\").lower()\n",
    "    return name ,username,isMale"
   ]
  },
  {
   "cell_type": "code",
   "execution_count": 192,
   "id": "65e97d8a-1026-4491-b854-05fab216ce36",
   "metadata": {},
   "outputs": [],
   "source": [
    "service_imgage_list = [\n",
    "    \"https://firebasestorage.googleapis.com/v0/b/bkpetcare-e130a.appspot.com/o/dichvu%2F1783b039079425c005843e07d5559b89.jpg?alt=media&token=d348e98a-96c5-4a5c-864e-4b6d2b2d4cdc\",\n",
    "    \"https://firebasestorage.googleapis.com/v0/b/bkpetcare-e130a.appspot.com/o/dichvu%2F17f69d822d4eb97cca6d2ede4383182a.jpg?alt=media&token=0f4a4d15-0f1f-4bfa-856d-91726097a3cc\",\n",
    "    \"https://firebasestorage.googleapis.com/v0/b/bkpetcare-e130a.appspot.com/o/dichvu%2F58d202b8b78da97ce37a2d547a8c67a5.jpg?alt=media&token=84fdd467-03db-4d44-833e-e5f6ac2a5f81\",\n",
    "    \"https://firebasestorage.googleapis.com/v0/b/bkpetcare-e130a.appspot.com/o/dichvu%2F5dc64c51e6c8a11279d1d29bca2c2879.jpg?alt=media&token=222c32a5-c457-4e5d-a601-7ead57196504\",\n",
    "    \"https://firebasestorage.googleapis.com/v0/b/bkpetcare-e130a.appspot.com/o/dichvu%2F7b4960a05fbb0685d14ed6b4d4d859ab.jpg?alt=media&token=cb3eabb7-37c0-4305-8190-a4b8ce0c0879\",\n",
    "    \"https://firebasestorage.googleapis.com/v0/b/bkpetcare-e130a.appspot.com/o/dichvu%2Fa0f735c1a04ec72c14f8278c728a7378.jpg?alt=media&token=61131103-4d87-442c-be6b-435ff64aa5f9\",\n",
    "    \"https://firebasestorage.googleapis.com/v0/b/bkpetcare-e130a.appspot.com/o/dichvu%2Fb0232bb02a5e27225508b55a17e76099.jpg?alt=media&token=3baf7840-9594-4846-a1cc-8b01f18947a1\",\n",
    "    \"https://firebasestorage.googleapis.com/v0/b/bkpetcare-e130a.appspot.com/o/dichvu%2Fb5981458bbbf8610fdb6772a150a667e.jpg?alt=media&token=39739e1c-8627-4705-b60a-fef60a89c50a\",\n",
    "    \"https://firebasestorage.googleapis.com/v0/b/bkpetcare-e130a.appspot.com/o/dichvu%2Fc312d16a87797995ac7fba054ddaa30a.jpg?alt=media&token=fc04b8a5-0c33-407b-b6b0-96fdaa5b2d13\",\n",
    "    \"https://firebasestorage.googleapis.com/v0/b/bkpetcare-e130a.appspot.com/o/dichvu%2Fc3dd8f7fdce8a90dc8c0dd072f3d939e.jpg?alt=media&token=2c0852c2-d88a-43b9-9a2c-bd547ba85e59\",\n",
    "    \"https://firebasestorage.googleapis.com/v0/b/bkpetcare-e130a.appspot.com/o/dichvu%2Fc8d1bc67b55f1d71e8412af642b2fecd.jpg?alt=media&token=0fcbe12f-da3d-4386-bc57-1c47a44a4d29\",\n",
    "    \"https://firebasestorage.googleapis.com/v0/b/bkpetcare-e130a.appspot.com/o/dichvu%2Fd49923b8656cc258132da095fa7e3c79.jpg?alt=media&token=27dbc96a-d80f-4296-b478-8be8142bfa7f\",\n",
    "    \"https://firebasestorage.googleapis.com/v0/b/bkpetcare-e130a.appspot.com/o/dichvu%2Fe250349232529cf49899e4352978ae00.jpg?alt=media&token=9cbd8131-571e-4dcb-b093-109dd36a22cd\"\n",
    "]\n",
    "def getServiceImage():\n",
    "    numbers=list(range(1, len(service_imgage_list)))\n",
    "    random_number_with_choice = random.choice(numbers)\n",
    "    return service_imgage_list[random_number_with_choice]\n"
   ]
  },
  {
   "cell_type": "code",
   "execution_count": 210,
   "id": "0569a8e0-4f5c-48b1-b216-5b53aedd50df",
   "metadata": {},
   "outputs": [
    {
     "name": "stdout",
     "output_type": "stream",
     "text": [
      "['mèo', 'chim']\n"
     ]
    }
   ],
   "source": [
    "service_type_list = [\n",
    "        \"CHĂM SÓC\",\n",
    "        \"TẮM\",\n",
    "        \"LÀM ĐẸP\",\n",
    "        \"CẮT TỈA LÔNG\",\n",
    "        \"NHUỘM LÔNG\",\n",
    "        \"VỆ SINH TAI\",\n",
    "        \"LÀM MÓNG\",\n",
    "        \"KHÁM BỆNH\",\n",
    "        \"CHỮA BỆNH\",\n",
    "        \"KHÁC\"\n",
    "]\n",
    "\n",
    "def getServiceTypeRandom(number=2):\n",
    "    # Randomly choose 5 elements\n",
    "    random_elements = random.sample(service_type_list, number)\n",
    "    return random_elements\n",
    "    \n",
    "pet_species_list = [\n",
    "    \"chó\",\n",
    "    \"mèo\",\n",
    "    \"cá\",\n",
    "    \"chim\"\n",
    "]\n",
    "def getSpeciesRandom(number=2):\n",
    "    # Randomly choose 5 elements\n",
    "    random_elements = random.sample(pet_species_list, number)\n",
    "    return random_elements"
   ]
  },
  {
   "cell_type": "markdown",
   "id": "7084a4f8-421b-4831-8577-0601fa568053",
   "metadata": {},
   "source": [
    "### Insert Data to database"
   ]
  },
  {
   "cell_type": "code",
   "execution_count": 223,
   "id": "b8423878-4134-4c21-8be6-4a00f3c173d4",
   "metadata": {},
   "outputs": [],
   "source": [
    "shop_id_start = 600\n",
    "shop_id_end = 700\n",
    "shop_data=[]\n",
    "for i in range(shop_id_start,shop_id_end ):\n",
    "    ma_nguoi_dung = i\n",
    "    (name,username,sex)=getNameAndUsername()\n",
    "    email = f'{username}@gnet.com'\n",
    "    password = '$2b$10$SJCUVhgTtYGYEfPYQWHKmeCMSUhM/vXKGSSEnEFf/0Cp.KI0Z9CR6'\n",
    "    phonenumber = '0987654321'\n",
    "    ngay_sinh=fake.date(pattern='%Y-%m-%d',end_datetime=datetime.date(2006,10,22))\n",
    "    usertype=1\n",
    "    token=''\n",
    "    shop_data.append((ma_nguoi_dung, name, ngay_sinh, username, password,email,phonenumber,usertype,sex,token))\n",
    "\n",
    "# insert data into database\n",
    "sql_stmt = \"\"\"\n",
    "INSERT INTO NguoiDung(ma_nguoi_dung , ten , ngay_sinh ,tai_khoan,mat_khau,email,so_dien_thoai,user_type,gioi_tinh,token)\n",
    "values(%s , %s , %s ,%s ,%s ,%s ,%s ,%s ,%s ,%s)\n",
    "\"\"\"\n",
    "cursor.executemany(sql_stmt,shop_data)\n",
    "conn.commit()"
   ]
  },
  {
   "cell_type": "markdown",
   "id": "29fe75a7-3c3d-4cd5-8467-8773a7f70112",
   "metadata": {},
   "source": [
    "### delete data shop"
   ]
  },
  {
   "cell_type": "code",
   "execution_count": 225,
   "id": "ea9f09ab-dd3f-4666-8b79-a88a32907323",
   "metadata": {},
   "outputs": [],
   "source": [
    "sql_stmt = f'delete from NguoiDung where ma_nguoi_dung >= {shop_id_start}'\n",
    "cursor.execute(sql_stmt)\n",
    "conn.commit()"
   ]
  },
  {
   "cell_type": "markdown",
   "id": "19eff5cf-bec2-4747-a3a9-1c14d4cbff10",
   "metadata": {},
   "source": [
    "### insert service data for shop"
   ]
  },
  {
   "cell_type": "code",
   "execution_count": 245,
   "id": "0c230093-a9ba-4ead-be23-590c3c0cccdf",
   "metadata": {},
   "outputs": [],
   "source": [
    "\n",
    "def createServiceData(shop_id):\n",
    "    serviceName = fake.sentence()[:20]\n",
    "    shopId = shop_id\n",
    "    shortDescription=''\n",
    "    serviceDescription=''\n",
    "    serviceImgUrl=getServiceImage()\n",
    "    priceQuotation = random.randint(200000,500000)\n",
    "    duration= random.randint(1,20)\n",
    "    numOfStar=0\n",
    "    serviceType=getServiceTypeRandom()\n",
    "    petSpecies=getSpeciesRandom()\n",
    "    return {\n",
    "        'serviceName':serviceName,\n",
    "        'shopId':shopId,\n",
    "        'shortDescription':shortDescription,\n",
    "        'serviceDescription':serviceDescription,\n",
    "        'serviceImgUrl':serviceImgUrl,\n",
    "        'priceQuotation':priceQuotation,\n",
    "        'duration':duration,\n",
    "        'numOfStar':numOfStar,\n",
    "        'serviceType':serviceType,\n",
    "        'petSpecies':petSpecies,\n",
    "        \"temp_field\":'no_important'\n",
    "    }\n",
    "\n",
    "def createServicesForShop(shop_id,num_of_service):\n",
    "    data =[]\n",
    "    for i in range(0,num_of_service):\n",
    "        service = createServiceData(shop_id)\n",
    "        data.append(service)\n",
    "    return data\n",
    "    \n"
   ]
  },
  {
   "cell_type": "code",
   "execution_count": 246,
   "id": "81b684a6-74d3-42a3-ab0d-615f82f9ec1b",
   "metadata": {},
   "outputs": [
    {
     "data": {
      "text/plain": [
       "InsertManyResult([ObjectId('6650c6c28f68ab6a0ea0ac2f'), ObjectId('6650c6c28f68ab6a0ea0ac30'), ObjectId('6650c6c28f68ab6a0ea0ac31'), ObjectId('6650c6c28f68ab6a0ea0ac32'), ObjectId('6650c6c28f68ab6a0ea0ac33'), ObjectId('6650c6c28f68ab6a0ea0ac34'), ObjectId('6650c6c28f68ab6a0ea0ac35'), ObjectId('6650c6c28f68ab6a0ea0ac36'), ObjectId('6650c6c28f68ab6a0ea0ac37'), ObjectId('6650c6c28f68ab6a0ea0ac38'), ObjectId('6650c6c28f68ab6a0ea0ac39'), ObjectId('6650c6c28f68ab6a0ea0ac3a'), ObjectId('6650c6c28f68ab6a0ea0ac3b'), ObjectId('6650c6c28f68ab6a0ea0ac3c'), ObjectId('6650c6c28f68ab6a0ea0ac3d'), ObjectId('6650c6c28f68ab6a0ea0ac3e'), ObjectId('6650c6c28f68ab6a0ea0ac3f'), ObjectId('6650c6c28f68ab6a0ea0ac40'), ObjectId('6650c6c28f68ab6a0ea0ac41'), ObjectId('6650c6c28f68ab6a0ea0ac42'), ObjectId('6650c6c28f68ab6a0ea0ac43'), ObjectId('6650c6c28f68ab6a0ea0ac44'), ObjectId('6650c6c28f68ab6a0ea0ac45'), ObjectId('6650c6c28f68ab6a0ea0ac46'), ObjectId('6650c6c28f68ab6a0ea0ac47'), ObjectId('6650c6c28f68ab6a0ea0ac48'), ObjectId('6650c6c28f68ab6a0ea0ac49'), ObjectId('6650c6c28f68ab6a0ea0ac4a'), ObjectId('6650c6c28f68ab6a0ea0ac4b'), ObjectId('6650c6c28f68ab6a0ea0ac4c'), ObjectId('6650c6c28f68ab6a0ea0ac4d'), ObjectId('6650c6c28f68ab6a0ea0ac4e'), ObjectId('6650c6c28f68ab6a0ea0ac4f'), ObjectId('6650c6c28f68ab6a0ea0ac50'), ObjectId('6650c6c28f68ab6a0ea0ac51'), ObjectId('6650c6c28f68ab6a0ea0ac52'), ObjectId('6650c6c28f68ab6a0ea0ac53'), ObjectId('6650c6c28f68ab6a0ea0ac54'), ObjectId('6650c6c28f68ab6a0ea0ac55'), ObjectId('6650c6c28f68ab6a0ea0ac56'), ObjectId('6650c6c28f68ab6a0ea0ac57'), ObjectId('6650c6c28f68ab6a0ea0ac58'), ObjectId('6650c6c28f68ab6a0ea0ac59'), ObjectId('6650c6c28f68ab6a0ea0ac5a'), ObjectId('6650c6c28f68ab6a0ea0ac5b'), ObjectId('6650c6c28f68ab6a0ea0ac5c'), ObjectId('6650c6c28f68ab6a0ea0ac5d'), ObjectId('6650c6c28f68ab6a0ea0ac5e'), ObjectId('6650c6c28f68ab6a0ea0ac5f'), ObjectId('6650c6c28f68ab6a0ea0ac60'), ObjectId('6650c6c28f68ab6a0ea0ac61'), ObjectId('6650c6c28f68ab6a0ea0ac62'), ObjectId('6650c6c28f68ab6a0ea0ac63'), ObjectId('6650c6c28f68ab6a0ea0ac64'), ObjectId('6650c6c28f68ab6a0ea0ac65'), ObjectId('6650c6c28f68ab6a0ea0ac66'), ObjectId('6650c6c28f68ab6a0ea0ac67'), ObjectId('6650c6c28f68ab6a0ea0ac68'), ObjectId('6650c6c28f68ab6a0ea0ac69'), ObjectId('6650c6c28f68ab6a0ea0ac6a'), ObjectId('6650c6c28f68ab6a0ea0ac6b'), ObjectId('6650c6c28f68ab6a0ea0ac6c'), ObjectId('6650c6c28f68ab6a0ea0ac6d'), ObjectId('6650c6c28f68ab6a0ea0ac6e'), ObjectId('6650c6c28f68ab6a0ea0ac6f'), ObjectId('6650c6c28f68ab6a0ea0ac70'), ObjectId('6650c6c28f68ab6a0ea0ac71'), ObjectId('6650c6c28f68ab6a0ea0ac72'), ObjectId('6650c6c28f68ab6a0ea0ac73'), ObjectId('6650c6c28f68ab6a0ea0ac74'), ObjectId('6650c6c28f68ab6a0ea0ac75'), ObjectId('6650c6c28f68ab6a0ea0ac76'), ObjectId('6650c6c28f68ab6a0ea0ac77'), ObjectId('6650c6c28f68ab6a0ea0ac78'), ObjectId('6650c6c28f68ab6a0ea0ac79'), ObjectId('6650c6c28f68ab6a0ea0ac7a'), ObjectId('6650c6c28f68ab6a0ea0ac7b'), ObjectId('6650c6c28f68ab6a0ea0ac7c'), ObjectId('6650c6c28f68ab6a0ea0ac7d'), ObjectId('6650c6c28f68ab6a0ea0ac7e'), ObjectId('6650c6c28f68ab6a0ea0ac7f'), ObjectId('6650c6c28f68ab6a0ea0ac80'), ObjectId('6650c6c28f68ab6a0ea0ac81'), ObjectId('6650c6c28f68ab6a0ea0ac82'), ObjectId('6650c6c28f68ab6a0ea0ac83'), ObjectId('6650c6c28f68ab6a0ea0ac84'), ObjectId('6650c6c28f68ab6a0ea0ac85'), ObjectId('6650c6c28f68ab6a0ea0ac86'), ObjectId('6650c6c28f68ab6a0ea0ac87'), ObjectId('6650c6c28f68ab6a0ea0ac88'), ObjectId('6650c6c28f68ab6a0ea0ac89'), ObjectId('6650c6c28f68ab6a0ea0ac8a'), ObjectId('6650c6c28f68ab6a0ea0ac8b'), ObjectId('6650c6c28f68ab6a0ea0ac8c'), ObjectId('6650c6c28f68ab6a0ea0ac8d'), ObjectId('6650c6c28f68ab6a0ea0ac8e'), ObjectId('6650c6c28f68ab6a0ea0ac8f'), ObjectId('6650c6c28f68ab6a0ea0ac90'), ObjectId('6650c6c28f68ab6a0ea0ac91'), ObjectId('6650c6c28f68ab6a0ea0ac92'), ObjectId('6650c6c28f68ab6a0ea0ac93'), ObjectId('6650c6c28f68ab6a0ea0ac94'), ObjectId('6650c6c28f68ab6a0ea0ac95'), ObjectId('6650c6c28f68ab6a0ea0ac96'), ObjectId('6650c6c28f68ab6a0ea0ac97'), ObjectId('6650c6c28f68ab6a0ea0ac98'), ObjectId('6650c6c28f68ab6a0ea0ac99'), ObjectId('6650c6c28f68ab6a0ea0ac9a'), ObjectId('6650c6c28f68ab6a0ea0ac9b'), ObjectId('6650c6c28f68ab6a0ea0ac9c'), ObjectId('6650c6c28f68ab6a0ea0ac9d'), ObjectId('6650c6c28f68ab6a0ea0ac9e'), ObjectId('6650c6c28f68ab6a0ea0ac9f'), ObjectId('6650c6c28f68ab6a0ea0aca0'), ObjectId('6650c6c28f68ab6a0ea0aca1'), ObjectId('6650c6c28f68ab6a0ea0aca2'), ObjectId('6650c6c28f68ab6a0ea0aca3'), ObjectId('6650c6c28f68ab6a0ea0aca4'), ObjectId('6650c6c28f68ab6a0ea0aca5'), ObjectId('6650c6c28f68ab6a0ea0aca6'), ObjectId('6650c6c28f68ab6a0ea0aca7'), ObjectId('6650c6c28f68ab6a0ea0aca8'), ObjectId('6650c6c28f68ab6a0ea0aca9'), ObjectId('6650c6c28f68ab6a0ea0acaa'), ObjectId('6650c6c28f68ab6a0ea0acab'), ObjectId('6650c6c28f68ab6a0ea0acac'), ObjectId('6650c6c28f68ab6a0ea0acad'), ObjectId('6650c6c28f68ab6a0ea0acae'), ObjectId('6650c6c28f68ab6a0ea0acaf'), ObjectId('6650c6c28f68ab6a0ea0acb0'), ObjectId('6650c6c28f68ab6a0ea0acb1'), ObjectId('6650c6c28f68ab6a0ea0acb2'), ObjectId('6650c6c28f68ab6a0ea0acb3'), ObjectId('6650c6c28f68ab6a0ea0acb4'), ObjectId('6650c6c28f68ab6a0ea0acb5'), ObjectId('6650c6c28f68ab6a0ea0acb6'), ObjectId('6650c6c28f68ab6a0ea0acb7'), ObjectId('6650c6c28f68ab6a0ea0acb8'), ObjectId('6650c6c28f68ab6a0ea0acb9'), ObjectId('6650c6c28f68ab6a0ea0acba'), ObjectId('6650c6c28f68ab6a0ea0acbb'), ObjectId('6650c6c28f68ab6a0ea0acbc'), ObjectId('6650c6c28f68ab6a0ea0acbd'), ObjectId('6650c6c28f68ab6a0ea0acbe'), ObjectId('6650c6c28f68ab6a0ea0acbf'), ObjectId('6650c6c28f68ab6a0ea0acc0'), ObjectId('6650c6c28f68ab6a0ea0acc1'), ObjectId('6650c6c28f68ab6a0ea0acc2'), ObjectId('6650c6c28f68ab6a0ea0acc3'), ObjectId('6650c6c28f68ab6a0ea0acc4'), ObjectId('6650c6c28f68ab6a0ea0acc5'), ObjectId('6650c6c28f68ab6a0ea0acc6'), ObjectId('6650c6c28f68ab6a0ea0acc7'), ObjectId('6650c6c28f68ab6a0ea0acc8'), ObjectId('6650c6c28f68ab6a0ea0acc9'), ObjectId('6650c6c28f68ab6a0ea0acca'), ObjectId('6650c6c28f68ab6a0ea0accb'), ObjectId('6650c6c28f68ab6a0ea0accc'), ObjectId('6650c6c28f68ab6a0ea0accd'), ObjectId('6650c6c28f68ab6a0ea0acce'), ObjectId('6650c6c28f68ab6a0ea0accf'), ObjectId('6650c6c28f68ab6a0ea0acd0'), ObjectId('6650c6c28f68ab6a0ea0acd1'), ObjectId('6650c6c28f68ab6a0ea0acd2'), ObjectId('6650c6c28f68ab6a0ea0acd3'), ObjectId('6650c6c28f68ab6a0ea0acd4'), ObjectId('6650c6c28f68ab6a0ea0acd5'), ObjectId('6650c6c28f68ab6a0ea0acd6'), ObjectId('6650c6c28f68ab6a0ea0acd7'), ObjectId('6650c6c28f68ab6a0ea0acd8'), ObjectId('6650c6c28f68ab6a0ea0acd9'), ObjectId('6650c6c28f68ab6a0ea0acda'), ObjectId('6650c6c28f68ab6a0ea0acdb'), ObjectId('6650c6c28f68ab6a0ea0acdc'), ObjectId('6650c6c28f68ab6a0ea0acdd'), ObjectId('6650c6c28f68ab6a0ea0acde'), ObjectId('6650c6c28f68ab6a0ea0acdf'), ObjectId('6650c6c28f68ab6a0ea0ace0'), ObjectId('6650c6c28f68ab6a0ea0ace1'), ObjectId('6650c6c28f68ab6a0ea0ace2'), ObjectId('6650c6c28f68ab6a0ea0ace3'), ObjectId('6650c6c28f68ab6a0ea0ace4'), ObjectId('6650c6c28f68ab6a0ea0ace5'), ObjectId('6650c6c28f68ab6a0ea0ace6'), ObjectId('6650c6c28f68ab6a0ea0ace7'), ObjectId('6650c6c28f68ab6a0ea0ace8'), ObjectId('6650c6c28f68ab6a0ea0ace9'), ObjectId('6650c6c28f68ab6a0ea0acea'), ObjectId('6650c6c28f68ab6a0ea0aceb'), ObjectId('6650c6c28f68ab6a0ea0acec'), ObjectId('6650c6c28f68ab6a0ea0aced'), ObjectId('6650c6c28f68ab6a0ea0acee'), ObjectId('6650c6c28f68ab6a0ea0acef'), ObjectId('6650c6c28f68ab6a0ea0acf0'), ObjectId('6650c6c28f68ab6a0ea0acf1'), ObjectId('6650c6c28f68ab6a0ea0acf2'), ObjectId('6650c6c28f68ab6a0ea0acf3'), ObjectId('6650c6c28f68ab6a0ea0acf4'), ObjectId('6650c6c28f68ab6a0ea0acf5'), ObjectId('6650c6c28f68ab6a0ea0acf6'), ObjectId('6650c6c28f68ab6a0ea0acf7'), ObjectId('6650c6c28f68ab6a0ea0acf8'), ObjectId('6650c6c28f68ab6a0ea0acf9'), ObjectId('6650c6c28f68ab6a0ea0acfa'), ObjectId('6650c6c28f68ab6a0ea0acfb'), ObjectId('6650c6c28f68ab6a0ea0acfc'), ObjectId('6650c6c28f68ab6a0ea0acfd'), ObjectId('6650c6c28f68ab6a0ea0acfe'), ObjectId('6650c6c28f68ab6a0ea0acff'), ObjectId('6650c6c28f68ab6a0ea0ad00'), ObjectId('6650c6c28f68ab6a0ea0ad01'), ObjectId('6650c6c28f68ab6a0ea0ad02'), ObjectId('6650c6c28f68ab6a0ea0ad03'), ObjectId('6650c6c28f68ab6a0ea0ad04'), ObjectId('6650c6c28f68ab6a0ea0ad05'), ObjectId('6650c6c28f68ab6a0ea0ad06'), ObjectId('6650c6c28f68ab6a0ea0ad07'), ObjectId('6650c6c28f68ab6a0ea0ad08'), ObjectId('6650c6c28f68ab6a0ea0ad09'), ObjectId('6650c6c28f68ab6a0ea0ad0a'), ObjectId('6650c6c28f68ab6a0ea0ad0b'), ObjectId('6650c6c28f68ab6a0ea0ad0c'), ObjectId('6650c6c28f68ab6a0ea0ad0d'), ObjectId('6650c6c28f68ab6a0ea0ad0e'), ObjectId('6650c6c28f68ab6a0ea0ad0f'), ObjectId('6650c6c28f68ab6a0ea0ad10'), ObjectId('6650c6c28f68ab6a0ea0ad11'), ObjectId('6650c6c28f68ab6a0ea0ad12'), ObjectId('6650c6c28f68ab6a0ea0ad13'), ObjectId('6650c6c28f68ab6a0ea0ad14'), ObjectId('6650c6c28f68ab6a0ea0ad15'), ObjectId('6650c6c28f68ab6a0ea0ad16'), ObjectId('6650c6c28f68ab6a0ea0ad17'), ObjectId('6650c6c28f68ab6a0ea0ad18'), ObjectId('6650c6c28f68ab6a0ea0ad19'), ObjectId('6650c6c28f68ab6a0ea0ad1a'), ObjectId('6650c6c28f68ab6a0ea0ad1b'), ObjectId('6650c6c28f68ab6a0ea0ad1c'), ObjectId('6650c6c28f68ab6a0ea0ad1d'), ObjectId('6650c6c28f68ab6a0ea0ad1e'), ObjectId('6650c6c28f68ab6a0ea0ad1f'), ObjectId('6650c6c28f68ab6a0ea0ad20'), ObjectId('6650c6c28f68ab6a0ea0ad21'), ObjectId('6650c6c28f68ab6a0ea0ad22'), ObjectId('6650c6c28f68ab6a0ea0ad23'), ObjectId('6650c6c28f68ab6a0ea0ad24'), ObjectId('6650c6c28f68ab6a0ea0ad25'), ObjectId('6650c6c28f68ab6a0ea0ad26'), ObjectId('6650c6c28f68ab6a0ea0ad27'), ObjectId('6650c6c28f68ab6a0ea0ad28'), ObjectId('6650c6c28f68ab6a0ea0ad29'), ObjectId('6650c6c28f68ab6a0ea0ad2a'), ObjectId('6650c6c28f68ab6a0ea0ad2b'), ObjectId('6650c6c28f68ab6a0ea0ad2c'), ObjectId('6650c6c28f68ab6a0ea0ad2d'), ObjectId('6650c6c28f68ab6a0ea0ad2e'), ObjectId('6650c6c28f68ab6a0ea0ad2f'), ObjectId('6650c6c28f68ab6a0ea0ad30'), ObjectId('6650c6c28f68ab6a0ea0ad31'), ObjectId('6650c6c28f68ab6a0ea0ad32'), ObjectId('6650c6c28f68ab6a0ea0ad33'), ObjectId('6650c6c28f68ab6a0ea0ad34'), ObjectId('6650c6c28f68ab6a0ea0ad35'), ObjectId('6650c6c28f68ab6a0ea0ad36'), ObjectId('6650c6c28f68ab6a0ea0ad37'), ObjectId('6650c6c28f68ab6a0ea0ad38'), ObjectId('6650c6c28f68ab6a0ea0ad39'), ObjectId('6650c6c28f68ab6a0ea0ad3a'), ObjectId('6650c6c28f68ab6a0ea0ad3b'), ObjectId('6650c6c28f68ab6a0ea0ad3c'), ObjectId('6650c6c28f68ab6a0ea0ad3d'), ObjectId('6650c6c28f68ab6a0ea0ad3e'), ObjectId('6650c6c28f68ab6a0ea0ad3f'), ObjectId('6650c6c28f68ab6a0ea0ad40'), ObjectId('6650c6c28f68ab6a0ea0ad41'), ObjectId('6650c6c28f68ab6a0ea0ad42'), ObjectId('6650c6c28f68ab6a0ea0ad43'), ObjectId('6650c6c28f68ab6a0ea0ad44'), ObjectId('6650c6c28f68ab6a0ea0ad45'), ObjectId('6650c6c28f68ab6a0ea0ad46'), ObjectId('6650c6c28f68ab6a0ea0ad47'), ObjectId('6650c6c28f68ab6a0ea0ad48'), ObjectId('6650c6c28f68ab6a0ea0ad49'), ObjectId('6650c6c28f68ab6a0ea0ad4a'), ObjectId('6650c6c28f68ab6a0ea0ad4b'), ObjectId('6650c6c28f68ab6a0ea0ad4c'), ObjectId('6650c6c28f68ab6a0ea0ad4d'), ObjectId('6650c6c28f68ab6a0ea0ad4e'), ObjectId('6650c6c28f68ab6a0ea0ad4f'), ObjectId('6650c6c28f68ab6a0ea0ad50'), ObjectId('6650c6c28f68ab6a0ea0ad51'), ObjectId('6650c6c28f68ab6a0ea0ad52'), ObjectId('6650c6c28f68ab6a0ea0ad53'), ObjectId('6650c6c28f68ab6a0ea0ad54'), ObjectId('6650c6c28f68ab6a0ea0ad55'), ObjectId('6650c6c28f68ab6a0ea0ad56'), ObjectId('6650c6c28f68ab6a0ea0ad57'), ObjectId('6650c6c28f68ab6a0ea0ad58'), ObjectId('6650c6c28f68ab6a0ea0ad59'), ObjectId('6650c6c28f68ab6a0ea0ad5a'), ObjectId('6650c6c28f68ab6a0ea0ad5b'), ObjectId('6650c6c28f68ab6a0ea0ad5c'), ObjectId('6650c6c28f68ab6a0ea0ad5d'), ObjectId('6650c6c28f68ab6a0ea0ad5e'), ObjectId('6650c6c28f68ab6a0ea0ad5f'), ObjectId('6650c6c28f68ab6a0ea0ad60'), ObjectId('6650c6c28f68ab6a0ea0ad61'), ObjectId('6650c6c28f68ab6a0ea0ad62'), ObjectId('6650c6c28f68ab6a0ea0ad63'), ObjectId('6650c6c28f68ab6a0ea0ad64'), ObjectId('6650c6c28f68ab6a0ea0ad65'), ObjectId('6650c6c28f68ab6a0ea0ad66'), ObjectId('6650c6c28f68ab6a0ea0ad67'), ObjectId('6650c6c28f68ab6a0ea0ad68'), ObjectId('6650c6c28f68ab6a0ea0ad69'), ObjectId('6650c6c28f68ab6a0ea0ad6a'), ObjectId('6650c6c28f68ab6a0ea0ad6b'), ObjectId('6650c6c28f68ab6a0ea0ad6c'), ObjectId('6650c6c28f68ab6a0ea0ad6d'), ObjectId('6650c6c28f68ab6a0ea0ad6e'), ObjectId('6650c6c28f68ab6a0ea0ad6f'), ObjectId('6650c6c28f68ab6a0ea0ad70'), ObjectId('6650c6c28f68ab6a0ea0ad71'), ObjectId('6650c6c28f68ab6a0ea0ad72'), ObjectId('6650c6c28f68ab6a0ea0ad73'), ObjectId('6650c6c28f68ab6a0ea0ad74'), ObjectId('6650c6c28f68ab6a0ea0ad75'), ObjectId('6650c6c28f68ab6a0ea0ad76'), ObjectId('6650c6c28f68ab6a0ea0ad77'), ObjectId('6650c6c28f68ab6a0ea0ad78'), ObjectId('6650c6c28f68ab6a0ea0ad79'), ObjectId('6650c6c28f68ab6a0ea0ad7a'), ObjectId('6650c6c28f68ab6a0ea0ad7b'), ObjectId('6650c6c28f68ab6a0ea0ad7c'), ObjectId('6650c6c28f68ab6a0ea0ad7d'), ObjectId('6650c6c28f68ab6a0ea0ad7e'), ObjectId('6650c6c28f68ab6a0ea0ad7f'), ObjectId('6650c6c28f68ab6a0ea0ad80'), ObjectId('6650c6c28f68ab6a0ea0ad81'), ObjectId('6650c6c28f68ab6a0ea0ad82'), ObjectId('6650c6c28f68ab6a0ea0ad83'), ObjectId('6650c6c28f68ab6a0ea0ad84'), ObjectId('6650c6c28f68ab6a0ea0ad85'), ObjectId('6650c6c28f68ab6a0ea0ad86'), ObjectId('6650c6c28f68ab6a0ea0ad87'), ObjectId('6650c6c28f68ab6a0ea0ad88'), ObjectId('6650c6c28f68ab6a0ea0ad89'), ObjectId('6650c6c28f68ab6a0ea0ad8a'), ObjectId('6650c6c28f68ab6a0ea0ad8b'), ObjectId('6650c6c28f68ab6a0ea0ad8c'), ObjectId('6650c6c28f68ab6a0ea0ad8d'), ObjectId('6650c6c28f68ab6a0ea0ad8e'), ObjectId('6650c6c28f68ab6a0ea0ad8f'), ObjectId('6650c6c28f68ab6a0ea0ad90'), ObjectId('6650c6c28f68ab6a0ea0ad91'), ObjectId('6650c6c28f68ab6a0ea0ad92'), ObjectId('6650c6c28f68ab6a0ea0ad93'), ObjectId('6650c6c28f68ab6a0ea0ad94'), ObjectId('6650c6c28f68ab6a0ea0ad95'), ObjectId('6650c6c28f68ab6a0ea0ad96'), ObjectId('6650c6c28f68ab6a0ea0ad97'), ObjectId('6650c6c28f68ab6a0ea0ad98'), ObjectId('6650c6c28f68ab6a0ea0ad99'), ObjectId('6650c6c28f68ab6a0ea0ad9a'), ObjectId('6650c6c28f68ab6a0ea0ad9b'), ObjectId('6650c6c28f68ab6a0ea0ad9c'), ObjectId('6650c6c28f68ab6a0ea0ad9d'), ObjectId('6650c6c28f68ab6a0ea0ad9e'), ObjectId('6650c6c28f68ab6a0ea0ad9f'), ObjectId('6650c6c28f68ab6a0ea0ada0'), ObjectId('6650c6c28f68ab6a0ea0ada1'), ObjectId('6650c6c28f68ab6a0ea0ada2'), ObjectId('6650c6c28f68ab6a0ea0ada3'), ObjectId('6650c6c28f68ab6a0ea0ada4'), ObjectId('6650c6c28f68ab6a0ea0ada5'), ObjectId('6650c6c28f68ab6a0ea0ada6'), ObjectId('6650c6c28f68ab6a0ea0ada7'), ObjectId('6650c6c28f68ab6a0ea0ada8'), ObjectId('6650c6c28f68ab6a0ea0ada9'), ObjectId('6650c6c28f68ab6a0ea0adaa'), ObjectId('6650c6c28f68ab6a0ea0adab'), ObjectId('6650c6c28f68ab6a0ea0adac'), ObjectId('6650c6c28f68ab6a0ea0adad'), ObjectId('6650c6c28f68ab6a0ea0adae'), ObjectId('6650c6c28f68ab6a0ea0adaf'), ObjectId('6650c6c28f68ab6a0ea0adb0'), ObjectId('6650c6c28f68ab6a0ea0adb1'), ObjectId('6650c6c28f68ab6a0ea0adb2'), ObjectId('6650c6c28f68ab6a0ea0adb3'), ObjectId('6650c6c28f68ab6a0ea0adb4'), ObjectId('6650c6c28f68ab6a0ea0adb5'), ObjectId('6650c6c28f68ab6a0ea0adb6'), ObjectId('6650c6c28f68ab6a0ea0adb7'), ObjectId('6650c6c28f68ab6a0ea0adb8'), ObjectId('6650c6c28f68ab6a0ea0adb9'), ObjectId('6650c6c28f68ab6a0ea0adba'), ObjectId('6650c6c28f68ab6a0ea0adbb'), ObjectId('6650c6c28f68ab6a0ea0adbc'), ObjectId('6650c6c28f68ab6a0ea0adbd'), ObjectId('6650c6c28f68ab6a0ea0adbe'), ObjectId('6650c6c28f68ab6a0ea0adbf'), ObjectId('6650c6c28f68ab6a0ea0adc0'), ObjectId('6650c6c28f68ab6a0ea0adc1'), ObjectId('6650c6c28f68ab6a0ea0adc2'), ObjectId('6650c6c28f68ab6a0ea0adc3'), ObjectId('6650c6c28f68ab6a0ea0adc4'), ObjectId('6650c6c28f68ab6a0ea0adc5'), ObjectId('6650c6c28f68ab6a0ea0adc6'), ObjectId('6650c6c28f68ab6a0ea0adc7'), ObjectId('6650c6c28f68ab6a0ea0adc8'), ObjectId('6650c6c28f68ab6a0ea0adc9'), ObjectId('6650c6c28f68ab6a0ea0adca'), ObjectId('6650c6c28f68ab6a0ea0adcb'), ObjectId('6650c6c28f68ab6a0ea0adcc'), ObjectId('6650c6c28f68ab6a0ea0adcd'), ObjectId('6650c6c28f68ab6a0ea0adce'), ObjectId('6650c6c28f68ab6a0ea0adcf'), ObjectId('6650c6c28f68ab6a0ea0add0'), ObjectId('6650c6c28f68ab6a0ea0add1'), ObjectId('6650c6c28f68ab6a0ea0add2'), ObjectId('6650c6c28f68ab6a0ea0add3'), ObjectId('6650c6c28f68ab6a0ea0add4'), ObjectId('6650c6c28f68ab6a0ea0add5'), ObjectId('6650c6c28f68ab6a0ea0add6'), ObjectId('6650c6c28f68ab6a0ea0add7'), ObjectId('6650c6c28f68ab6a0ea0add8'), ObjectId('6650c6c28f68ab6a0ea0add9'), ObjectId('6650c6c28f68ab6a0ea0adda'), ObjectId('6650c6c28f68ab6a0ea0addb'), ObjectId('6650c6c28f68ab6a0ea0addc'), ObjectId('6650c6c28f68ab6a0ea0addd'), ObjectId('6650c6c28f68ab6a0ea0adde'), ObjectId('6650c6c28f68ab6a0ea0addf'), ObjectId('6650c6c28f68ab6a0ea0ade0'), ObjectId('6650c6c28f68ab6a0ea0ade1'), ObjectId('6650c6c28f68ab6a0ea0ade2'), ObjectId('6650c6c28f68ab6a0ea0ade3'), ObjectId('6650c6c28f68ab6a0ea0ade4'), ObjectId('6650c6c28f68ab6a0ea0ade5'), ObjectId('6650c6c28f68ab6a0ea0ade6'), ObjectId('6650c6c28f68ab6a0ea0ade7'), ObjectId('6650c6c28f68ab6a0ea0ade8'), ObjectId('6650c6c28f68ab6a0ea0ade9'), ObjectId('6650c6c28f68ab6a0ea0adea'), ObjectId('6650c6c28f68ab6a0ea0adeb'), ObjectId('6650c6c28f68ab6a0ea0adec'), ObjectId('6650c6c28f68ab6a0ea0aded'), ObjectId('6650c6c28f68ab6a0ea0adee'), ObjectId('6650c6c28f68ab6a0ea0adef'), ObjectId('6650c6c28f68ab6a0ea0adf0'), ObjectId('6650c6c28f68ab6a0ea0adf1'), ObjectId('6650c6c28f68ab6a0ea0adf2'), ObjectId('6650c6c28f68ab6a0ea0adf3'), ObjectId('6650c6c28f68ab6a0ea0adf4'), ObjectId('6650c6c28f68ab6a0ea0adf5'), ObjectId('6650c6c28f68ab6a0ea0adf6'), ObjectId('6650c6c28f68ab6a0ea0adf7'), ObjectId('6650c6c28f68ab6a0ea0adf8'), ObjectId('6650c6c28f68ab6a0ea0adf9'), ObjectId('6650c6c28f68ab6a0ea0adfa'), ObjectId('6650c6c28f68ab6a0ea0adfb'), ObjectId('6650c6c28f68ab6a0ea0adfc'), ObjectId('6650c6c28f68ab6a0ea0adfd'), ObjectId('6650c6c28f68ab6a0ea0adfe'), ObjectId('6650c6c28f68ab6a0ea0adff'), ObjectId('6650c6c28f68ab6a0ea0ae00'), ObjectId('6650c6c28f68ab6a0ea0ae01'), ObjectId('6650c6c28f68ab6a0ea0ae02'), ObjectId('6650c6c28f68ab6a0ea0ae03'), ObjectId('6650c6c28f68ab6a0ea0ae04'), ObjectId('6650c6c28f68ab6a0ea0ae05'), ObjectId('6650c6c28f68ab6a0ea0ae06'), ObjectId('6650c6c28f68ab6a0ea0ae07'), ObjectId('6650c6c28f68ab6a0ea0ae08'), ObjectId('6650c6c28f68ab6a0ea0ae09'), ObjectId('6650c6c28f68ab6a0ea0ae0a'), ObjectId('6650c6c28f68ab6a0ea0ae0b'), ObjectId('6650c6c28f68ab6a0ea0ae0c'), ObjectId('6650c6c28f68ab6a0ea0ae0d'), ObjectId('6650c6c28f68ab6a0ea0ae0e'), ObjectId('6650c6c28f68ab6a0ea0ae0f'), ObjectId('6650c6c28f68ab6a0ea0ae10'), ObjectId('6650c6c28f68ab6a0ea0ae11'), ObjectId('6650c6c28f68ab6a0ea0ae12'), ObjectId('6650c6c28f68ab6a0ea0ae13'), ObjectId('6650c6c28f68ab6a0ea0ae14'), ObjectId('6650c6c28f68ab6a0ea0ae15'), ObjectId('6650c6c28f68ab6a0ea0ae16'), ObjectId('6650c6c28f68ab6a0ea0ae17'), ObjectId('6650c6c28f68ab6a0ea0ae18'), ObjectId('6650c6c28f68ab6a0ea0ae19'), ObjectId('6650c6c28f68ab6a0ea0ae1a'), ObjectId('6650c6c28f68ab6a0ea0ae1b'), ObjectId('6650c6c28f68ab6a0ea0ae1c'), ObjectId('6650c6c28f68ab6a0ea0ae1d'), ObjectId('6650c6c28f68ab6a0ea0ae1e'), ObjectId('6650c6c28f68ab6a0ea0ae1f'), ObjectId('6650c6c28f68ab6a0ea0ae20'), ObjectId('6650c6c28f68ab6a0ea0ae21'), ObjectId('6650c6c28f68ab6a0ea0ae22'), ObjectId('6650c6c28f68ab6a0ea0ae23'), ObjectId('6650c6c28f68ab6a0ea0ae24'), ObjectId('6650c6c28f68ab6a0ea0ae25'), ObjectId('6650c6c28f68ab6a0ea0ae26'), ObjectId('6650c6c28f68ab6a0ea0ae27')], acknowledged=True)"
      ]
     },
     "execution_count": 246,
     "metadata": {},
     "output_type": "execute_result"
    }
   ],
   "source": [
    "service_list = []\n",
    "for i in range(shop_id_start,shop_id_end):\n",
    "    num_of_service = random.randint(3,7)\n",
    "    services = createServicesForShop(i,num_of_service)\n",
    "    service_list+=services\n",
    "service_list  \n",
    "mycolService.insert_many(service_list)"
   ]
  },
  {
   "cell_type": "code",
   "execution_count": 250,
   "id": "8182e9af-acef-4d79-a6c7-5820891ede35",
   "metadata": {},
   "outputs": [],
   "source": [
    "\n",
    "def getimageForAddress():\n",
    "    images=[\n",
    "        \"https://firebasestorage.googleapis.com/v0/b/bkpetcare-e130a.appspot.com/o/shop%2F0b6a89b0809ec833f1918d30fdb253ea.jpg?alt=media&token=75438c92-cfb5-4c0e-b1c6-407bd6e654ee\",\n",
    "        \"https://firebasestorage.googleapis.com/v0/b/bkpetcare-e130a.appspot.com/o/shop%2F14e84cd4514330dcb208abe27af1b60d.jpg?alt=media&token=1f810af6-f2e3-46f0-8c55-d76efb010059\",\n",
    "        \"https://firebasestorage.googleapis.com/v0/b/bkpetcare-e130a.appspot.com/o/shop%2F1c895a8af758a58b86c2eea21f41e077.jpg?alt=media&token=8d0b6c7d-3d1e-4de1-ad80-be992036d53f\",\n",
    "        \"https://firebasestorage.googleapis.com/v0/b/bkpetcare-e130a.appspot.com/o/shop%2F44aab44c9acce0147e30536c0b9ff869.jpg?alt=media&token=15ad4d92-fb13-4a27-8906-71b875068fb6\",\n",
    "        \"https://firebasestorage.googleapis.com/v0/b/bkpetcare-e130a.appspot.com/o/shop%2Fa58a6fc962ea25fdd1fc7cdf978e1d39.jpg?alt=media&token=e2371331-51bf-4331-960f-c8d1a38e56c8\",\n",
    "        \"https://firebasestorage.googleapis.com/v0/b/bkpetcare-e130a.appspot.com/o/shop%2Fb26388d9bf2e06e4f314c9139ae34127.jpg?alt=media&token=3ad9265c-7969-4b90-8361-3060e2925f27\",\n",
    "        \"https://firebasestorage.googleapis.com/v0/b/bkpetcare-e130a.appspot.com/o/shop%2Fc28429e7f183421e378b1d775e452350.jpg?alt=media&token=333586cb-3c13-4ceb-84f4-980b15c6e81e\",\n",
    "        \"https://firebasestorage.googleapis.com/v0/b/bkpetcare-e130a.appspot.com/o/shop%2Fchone_800x450.jpg?alt=media&token=5eb4a92e-27c8-4a0c-8e1d-fc0c80888112\",\n",
    "        \"https://firebasestorage.googleapis.com/v0/b/bkpetcare-e130a.appspot.com/o/shop%2Fdf1dbacffc848d4313766eefaf959d35.jpg?alt=media&token=d2636b36-a102-4e97-bc3e-004897deb429\",\n",
    "        \"https://firebasestorage.googleapis.com/v0/b/bkpetcare-e130a.appspot.com/o/shop%2Fe1ab7d70a984b1dc8b61cbbc53a8d391.jpg?alt=media&token=1d9c5801-5e23-4092-bc67-297135d45868\",\n",
    "        \"https://firebasestorage.googleapis.com/v0/b/bkpetcare-e130a.appspot.com/o/shop%2Fed940b82557973679bedb902d565c3fd.jpg?alt=media&token=b9510711-1d55-47dc-acd2-07d433fec64a\",\n",
    "        \"https://firebasestorage.googleapis.com/v0/b/bkpetcare-e130a.appspot.com/o/shop%2Ff2e7269e6532c0ae15d82c481de1ca9c.jpg?alt=media&token=d0ad8218-f480-4508-9bbc-b64a489d774b\"\n",
    "    ]\n",
    "    return random.choice(images)\n",
    "\n",
    "\n",
    "def createAddressForShop(shop_id,\n",
    "                        cover_image=\"https://firebasestorage.googleapis.com/v0/b/bkpetcare-e130a.appspot.com/o/images%2Fanh_bia_shop.jpg?alt=media&token=3ce38cb4-2ae7-4548-9aee-375b1d2584cb\"\n",
    "                        ):\n",
    "    return {\n",
    "    \"shopId\": shop_id,\n",
    "    \"taxNumberCode\": \"mst_test_000\",\n",
    "    \"addressInfor\": {\n",
    "      \"house_number\": \"268 Lý Thường kiệt\",\n",
    "      \"ward_infor\": {\n",
    "        \"_id\": \"66169cdfcf40fa5369bd612a\",\n",
    "        \"code\": 4828,\n",
    "        \"name\": \"Thống Nhất\",\n",
    "        \"name_en\": \"Thong Nhat\",\n",
    "        \"full_name\": \"Phường Thống Nhất\",\n",
    "        \"full_name_en\": \"Thong Nhat Ward\",\n",
    "        \"code_name\": \"thong_nhat\",\n",
    "        \"district_code\": 148,\n",
    "        \"administrative_unit_id\": 8,\n",
    "        \"type\": \"WARD\",\n",
    "      },\n",
    "      \"district_infor\": {\n",
    "        \"_id\": \"66169cdfcf40fa5369bd5884\",\n",
    "        \"code\": 148,\n",
    "        \"name\": \"Hòa Bình\",\n",
    "        \"name_en\": \"Hoa Binh\",\n",
    "        \"full_name\": \"Thành phố Hòa Bình\",\n",
    "        \"full_name_en\": \"Hoa Binh City\",\n",
    "        \"code_name\": \"hoa_binh\",\n",
    "        \"province_code\": 17,\n",
    "        \"administrative_unit_id\": 4,\n",
    "        \"type\": \"DISTRICT\",\n",
    "      },\n",
    "      \"province_infor\": {\n",
    "        \"_id\": \"66169cdfcf40fa5369bd57eb\",\n",
    "        \"code\": 17,\n",
    "        \"name\": \"Hoà Bình\",\n",
    "        \"name_en\": \"Hoa Binh\",\n",
    "        \"full_name\": \"Tỉnh Hoà Bình\",\n",
    "        \"full_name_en\": \"Hoa Binh Province\",\n",
    "        \"code_name\": \"hoa_binh\",\n",
    "        \"administrative_unit_id\": 2,\n",
    "        \"administrative_region_id\": 2,\n",
    "        \"type\": \"PROVINCE\",\n",
    "      },\n",
    "    },\n",
    "    \"sologan\": \"\",\n",
    "    \"descriptionMsg\": \"\",\n",
    "    \"timeServing\": \"\",\n",
    "    \"coverImageUrl\":cover_image,\n",
    "    \"isBlock\": False,\n",
    "    \"type\": \"SHOP_INFOR\",\n",
    "    \"temp_field\":\"no_important\"\n",
    "  }\n",
    "address_data = []\n",
    "for i in range(shop_id_start,shop_id_end):\n",
    "    data = createAddressForShop(i,getimageForAddress())\n",
    "    address_data.append(data)\n",
    "\n",
    "\n",
    "mycolAddress = mydb[\"ThongTinMoTaCuaHang\"]\n",
    "\n",
    "\n",
    "x = mycolAddress.insert_many(address_data)\n",
    "    "
   ]
  },
  {
   "cell_type": "code",
   "execution_count": 248,
   "id": "f6d5baac-21be-4955-9bdb-b60b89ccfe35",
   "metadata": {},
   "outputs": [
    {
     "name": "stdout",
     "output_type": "stream",
     "text": [
      "({'shopId': 2, 'taxNumberCode': 'mst_test_000', 'addressInfor': {'house_number': '268 Lý Thường kiệt', 'ward_infor': {'_id': '66169cdfcf40fa5369bd612a', 'code': 4828, 'name': 'Thống Nhất', 'name_en': 'Thong Nhat', 'full_name': 'Phường Thống Nhất', 'full_name_en': 'Thong Nhat Ward', 'code_name': 'thong_nhat', 'district_code': 148, 'administrative_unit_id': 8, 'type': 'WARD'}, 'district_infor': {'_id': '66169cdfcf40fa5369bd5884', 'code': 148, 'name': 'Hòa Bình', 'name_en': 'Hoa Binh', 'full_name': 'Thành phố Hòa Bình', 'full_name_en': 'Hoa Binh City', 'code_name': 'hoa_binh', 'province_code': 17, 'administrative_unit_id': 4, 'type': 'DISTRICT'}, 'province_infor': {'_id': '66169cdfcf40fa5369bd57eb', 'code': 17, 'name': 'Hoà Bình', 'name_en': 'Hoa Binh', 'full_name': 'Tỉnh Hoà Bình', 'full_name_en': 'Hoa Binh Province', 'code_name': 'hoa_binh', 'administrative_unit_id': 2, 'administrative_region_id': 2, 'type': 'PROVINCE'}}, 'sologan': '', 'descriptionMsg': '', 'timeServing': '', 'coverImageUrl': 'https://firebasestorage.googleapis.com/v0/b/bkpetcare-e130a.appspot.com/o/images%2Fanh_bia_shop.jpg?alt=media&token=3ce38cb4-2ae7-4548-9aee-375b1d2584cb', 'isBlock': False, 'type': 'SHOP_INFOR', 'temp_field': 'no_important'},)\n"
     ]
    }
   ],
   "source": [
    "print(createAddressForShop(2))"
   ]
  }
 ],
 "metadata": {
  "kernelspec": {
   "display_name": "Python 3 (ipykernel)",
   "language": "python",
   "name": "python3"
  },
  "language_info": {
   "codemirror_mode": {
    "name": "ipython",
    "version": 3
   },
   "file_extension": ".py",
   "mimetype": "text/x-python",
   "name": "python",
   "nbconvert_exporter": "python",
   "pygments_lexer": "ipython3",
   "version": "3.11.9"
  }
 },
 "nbformat": 4,
 "nbformat_minor": 5
}
