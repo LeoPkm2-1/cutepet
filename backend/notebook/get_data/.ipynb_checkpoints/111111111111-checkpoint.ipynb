{
 "cells": [
  {
   "cell_type": "code",
   "execution_count": 94,
   "id": "001a9e77-d611-4bc2-95ac-4777be88c4b4",
   "metadata": {},
   "outputs": [],
   "source": [
    "import re\n",
    "import json\n",
    "import requests\n",
    "from bs4 import BeautifulSoup\n",
    "from googletrans import Translator\n",
    "import pandas as pd"
   ]
  },
  {
   "cell_type": "code",
   "execution_count": 95,
   "id": "979b300b-d81f-44fe-a6e4-3e57dd913f7c",
   "metadata": {},
   "outputs": [],
   "source": [
    "import requests\n",
    "def fetch_data (url):\n",
    "    headers = {\n",
    "        \"User-Agent\":'Mozilla/5.0 (X11; Linux x86_64) AppleWebKit/537.36 (KHTML, like Gecko) Chrome/119.0.0.0 Safari/537.36'\n",
    "    }\n",
    "    res = requests.get(url, headers=headers)\n",
    "    if res.status_code != 200:\n",
    "        raise Exception(\"not get data: \"+url)\n",
    "    return res.content\n"
   ]
  },
  {
   "cell_type": "code",
   "execution_count": 96,
   "id": "882919d0-ebeb-4d27-8c2c-ce2abc3e1a02",
   "metadata": {},
   "outputs": [],
   "source": [
    "from bs4 import BeautifulSoup\n",
    "def parser_to_content_html (responseContent):\n",
    "    soup = BeautifulSoup(responseContent, 'html.parser')\n",
    "    content = soup.select('[class^=\"article_content_article_body\"]')\n",
    "    return content"
   ]
  },
  {
   "cell_type": "code",
   "execution_count": 97,
   "id": "d5604c1f-f374-4c20-b821-5008711e0399",
   "metadata": {},
   "outputs": [],
   "source": [
    "def remove_Not_need_html_element (rawContent):\n",
    "    # remove \n",
    "    notNeeded_elements_1 = rawContent.select('[class^=\"kib-container\"]')\n",
    "    for notNeeded in notNeeded_elements_1:\n",
    "        notNeeded.replace_with('')\n",
    "    # remove\n",
    "    notNeeded_elements_2 = rawContent.select('[class^=\"kib-divider\"]')\n",
    "    for notNeeded in notNeeded_elements_2:\n",
    "        notNeeded.replace_with('')\n",
    "    # remove\n",
    "    notNeeded_elements_3 = rawContent.select('[class^=\"author_little_\"]')\n",
    "    for notNeeded in notNeeded_elements_3:\n",
    "        notNeeded.replace_with('')\n",
    "\n",
    "    # remove \n",
    "    # notNeeded_elements_4 = rawContent.select('p:last-child')[-1].replace_with('')\n",
    "\n",
    "\n",
    "    "
   ]
  },
  {
   "cell_type": "code",
   "execution_count": 98,
   "id": "ad25fefe-4c98-4ea2-9d0e-51792bb0597b",
   "metadata": {},
   "outputs": [
    {
     "name": "stdout",
     "output_type": "stream",
     "text": [
      "a: [<div class=\"kib-container loading_and_error_state_container__7uIKk\" id=\"loading-and-error-page\"><span class=\"kib-spinner\"><svg aria-label=\"Loading\" class=\"kib-spinner__svg\" role=\"img\" viewbox=\"22 22 44 44\"><circle class=\"kib-spinner__path\" cx=\"44\" cy=\"44\" fill=\"none\" r=\"20.2\"></circle></svg></span></div>]\n",
      "b: [<hr class=\"kib-divider kib-divider--alternate-color\"/>, <hr class=\"kib-divider kib-divider--alternate-color\"/>]\n",
      "c: [<div class=\"author_little_little_author__s7dx4\"><div class=\"author_little_little_author_image_card__c2fH3\"><div class=\"petmd_image_petimage__1rksv\"><a aria-hidden=\"false\" href=\"/author/dr-brittany-grenus\" tabindex=\"0\" target=\"_self\"><span style=\"box-sizing:border-box;display:inline-block;overflow:hidden;width:initial;height:initial;background:none;opacity:1;border:0;margin:0;padding:0;position:relative;max-width:100%\"><span style=\"box-sizing:border-box;display:block;width:initial;height:initial;background:none;opacity:1;border:0;margin:0;padding:0;max-width:100%\"><img alt=\"\" aria-hidden=\"true\" src=\"data:image/svg+xml,%3csvg%20xmlns=%27http://www.w3.org/2000/svg%27%20version=%271.1%27%20width=%2780%27%20height=%2780%27/%3e\" style=\"display:block;max-width:100%;width:initial;height:initial;background:none;opacity:1;border:0;margin:0;padding:0\"/></span><img alt=\"Brittany Grenus, DVM\" data-nimg=\"intrinsic\" decoding=\"async\" src=\"data:image/gif;base64,R0lGODlhAQABAIAAAAAAAP///yH5BAEAAAAALAAAAAABAAEAAAIBRAA7\" style=\"position:absolute;top:0;left:0;bottom:0;right:0;box-sizing:border-box;padding:0;border:none;margin:auto;display:block;width:0;height:0;min-width:100%;max-width:100%;min-height:100%;max-height:100%\"/><noscript><img alt=\"Brittany Grenus, DVM\" data-nimg=\"intrinsic\" decoding=\"async\" loading=\"lazy\" src=\"https://image.petmd.com/files/styles/user_image/public/pictures/2021-09/Brittany%20Grenus%20Headshot%20copy.jpeg?w=256&amp;q=75\" srcset=\"https://image.petmd.com/files/styles/user_image/public/pictures/2021-09/Brittany%20Grenus%20Headshot%20copy.jpeg?w=96&amp;q=75 1x, https://image.petmd.com/files/styles/user_image/public/pictures/2021-09/Brittany%20Grenus%20Headshot%20copy.jpeg?w=256&amp;q=75 2x\" style=\"position:absolute;top:0;left:0;bottom:0;right:0;box-sizing:border-box;padding:0;border:none;margin:auto;display:block;width:0;height:0;min-width:100%;max-width:100%;min-height:100%;max-height:100%\"/></noscript></span></a></div></div><div class=\"author_little_little_author_checkmark_cardview__Zl9LF\"><svg viewbox=\"0 0 28 27\" xmlns=\"http://www.w3.org/2000/svg\"><path clip-rule=\"evenodd\" d=\"m17.853 25.078-1.561-.44h-.01c-.125-.03-.249-.04-.373-.03a1.075 1.075 0 0 0-.61.235l-1.246 1.032a1.087 1.087 0 0 1-1.375 0l-1.246-1.032a1.154 1.154 0 0 0-.388-.194 1.07 1.07 0 0 0-.595-.01l-1.56.44a1.075 1.075 0 0 1-1.257-.553l-.714-1.44a1.069 1.069 0 0 0-.811-.582l-1.608-.225a1.07 1.07 0 0 1-.92-1.012l-.063-1.604a1.038 1.038 0 0 0-.434-.802c-.02-.02-.067-.056-.067-.056l-1.375-.853a1.054 1.054 0 0 1-.424-1.292l.605-1.492a1.047 1.047 0 0 0-.104-.986L.812 12.85c-.29-.43-.227-.996.145-1.354l1.169-1.119c.253-.245.372-.597.31-.945l-.28-1.583a1.06 1.06 0 0 1 .688-1.175L4.37 6.12c.337-.117.585-.393.673-.736l.398-1.558a1.068 1.068 0 0 1 1.111-.796l1.619.107c.351.025.697-.128.915-.404l1.003-1.262c.32-.403.884-.52 1.344-.28l1.437.75c.316.164.688.164 1.003 0l1.437-.75a1.08 1.08 0 0 1 1.345.28l1.003 1.262c.217.276.558.43.915.404l1.618-.107c.517-.036.987.3 1.112.796l.398 1.558c.088.338.336.613.672.736l1.525.552c.486.173.776.669.688 1.175l-.28 1.583c-.062.348.057.7.31.945l1.17 1.12c.371.357.433.929.144 1.353l-.905 1.333a1.047 1.047 0 0 0-.103.986l.605 1.492a1.049 1.049 0 0 1-.424 1.292l-1.267.787-.109.066c-.3.184-.486.506-.501.858l-.062 1.604c-.02.516-.409.94-.92 1.012l-1.608.225a1.069 1.069 0 0 0-.812.582l-.713 1.44c-.228.46-.755.69-1.257.552Z\" fill=\"var(--chirp-ui-bg-brand-accent-03, #00A997)\" fill-rule=\"evenodd\"></path><path d=\"m16.292 24.639.135-.481a.5.5 0 0 0-.135-.02v.5Zm1.561.44-.135.48.003.001.132-.482Zm-1.572-.44-.12.485a.5.5 0 0 0 .12.015v-.5Zm-.372-.03.035.498h.006l-.04-.499Zm-.61.234-.316-.388-.003.003.32.385Zm-1.246 1.032.317.387.002-.002-.319-.385Zm-1.375 0-.32.385.002.002.318-.387Zm-1.246-1.032.319-.385a.664.664 0 0 0-.013-.01l-.306.395Zm-.388-.194-.14.48.14-.48Zm-.595-.01.136.481h.002l-.137-.481Zm-1.56.44-.136-.482H8.75l.138.481Zm-1.257-.553.448-.221-.448.221Zm-.714-1.44-.449.22.001.002.448-.222Zm-.811-.582.072-.495h-.003l-.07.495Zm-1.608-.225.069-.495-.07.495Zm-.92-1.012-.5.02.5-.02Zm-.063-1.604-.5.016v.004l.5-.02Zm-.434-.802-.351.356a.498.498 0 0 0 .056.048l.295-.404Zm-.067-.056.305-.396a.495.495 0 0 0-.042-.029l-.263.425Zm-1.375-.853.263-.425h-.001l-.262.425Zm-.424-1.292-.464-.188.464.188Zm.605-1.492-.463-.19v.002l.463.188Zm-.104-.986.415-.28H2.13l-.414.28ZM.812 12.85l-.414.28.414-.28Zm.145-1.354-.346-.361.346.361Zm1.169-1.119.345.362.002-.002-.347-.36Zm.31-.945-.493.087v.001l.493-.088Zm-.28-1.583-.492.086.493-.086Zm.688-1.175.169.47h.001l-.17-.47ZM4.37 6.12l-.165-.472-.005.002.17.47Zm.673-.736.484.125-.484-.125Zm.398-1.558.484.124V3.95l-.484-.122Zm1.111-.796-.034.498h.001l.033-.498Zm1.619.107.036-.499h-.003l-.033.499Zm.915-.404-.392-.31-.001.001.393.31Zm1.003-1.262.391.312-.391-.312Zm1.344-.28.231-.444-.231.444Zm1.437.75-.231.444h.001l.23-.444Zm1.003 0 .23.444h.002l-.232-.444Zm1.437-.75.232.443.002-.001-.234-.442Zm1.345.28-.392.311.392-.31Zm1.003 1.262.393-.309-.002-.002-.391.311Zm.915.404-.033-.5-.003.001.036.499Zm1.618-.107.033.498h.002l-.035-.498Zm1.112.796-.485.122v.002l.485-.124Zm.398 1.558-.485.124v.003l.485-.127Zm.672.736-.172.47h.002l.17-.47Zm1.525.552-.17.47h.002l.168-.47Zm.688 1.175.492.087v-.002l-.492-.085Zm-.28 1.583.493.088-.493-.088Zm.31.945-.347.36.002.002.346-.362Zm1.17 1.12.346-.362h-.001l-.346.361Zm.144 1.353-.413-.282v.001l.413.28Zm-.905 1.333-.414-.28.414.28Zm-.103.986.463-.188v-.002l-.463.19Zm.605 1.492-.464.188.002.003.462-.191Zm-.424 1.292-.263-.426-.001.001.264.425Zm-1.267.787.26.426.004-.002-.264-.424Zm-.109.066-.26-.426h-.001l.261.426Zm-.501.858-.5-.022v.003l.5.02Zm-.062 1.604.5.02-.5-.02Zm-.92 1.012-.07-.495.07.495Zm-1.608.225-.07-.496h-.002l.072.496Zm-.812.582.448.222.001-.002-.45-.22Zm-.713 1.44-.449-.221.448.221Zm-2.954.594 1.562.44.27-.963-1.56-.44-.272.963Zm.125.019h.01v-1h-.01v1Zm-.33-.032a.651.651 0 0 1 .21.017l.24-.97a1.649 1.649 0 0 0-.533-.044l.082.997Zm-.336.124a.575.575 0 0 1 .329-.124l-.07-.998a1.574 1.574 0 0 0-.89.346l.63.776Zm-1.243 1.03 1.246-1.033-.638-.77-1.246 1.032.638.77Zm-2.011 0a1.587 1.587 0 0 0 2.01 0l-.635-.772a.587.587 0 0 1-.74 0l-.636.773Zm-1.248-1.033 1.246 1.032.638-.77-1.246-1.032-.638.77Zm-.21-.099c.089.026.16.061.223.11l.612-.791a1.65 1.65 0 0 0-.553-.279l-.281.96Zm-.316-.01a.572.572 0 0 1 .316.01l.282-.96a1.568 1.568 0 0 0-.873-.01l.275.96Zm-1.563.44 1.561-.439-.27-.962-1.562.439.27.962Zm-1.84-.81a1.575 1.575 0 0 0 1.843.81l-.277-.961a.575.575 0 0 1-.67-.293l-.896.443Zm-.714-1.441.714 1.44.896-.443-.714-1.441-.896.444Zm-.435-.31a.569.569 0 0 1 .434.308l.898-.44a1.569 1.569 0 0 0-1.188-.857l-.144.99Zm-1.605-.224 1.607.225.139-.99-1.608-.225-.138.99Zm-1.351-1.486c.03.753.6 1.381 1.35 1.486l.139-.99a.57.57 0 0 1-.49-.537l-1 .04Zm-.062-1.605.062 1.604 1-.039-.063-1.604-1 .039Zm-.23-.418a.538.538 0 0 1 .23.414l1-.032a1.538 1.538 0 0 0-.64-1.19l-.59.808Zm.228-.46-.305.397.004.003a.56.56 0 0 1 .012.01c.015.011.014.011.005.002l.703-.711a1.111 1.111 0 0 0-.103-.088l-.008-.006a.076.076 0 0 1-.003-.003l-.305.396Zm-1.639-.428 1.375.853.527-.85-1.375-.853-.527.85Zm-.624-1.904a1.554 1.554 0 0 0 .625 1.905l.525-.852a.554.554 0 0 1-.222-.68l-.928-.373Zm.605-1.493-.605 1.492.927.375.605-1.491-.927-.376Zm-.054-.518a.547.547 0 0 1 .055.516l.925.38c.2-.485.137-1.029-.151-1.456l-.83.56ZM.399 13.13l.904 1.333.828-.562-.905-1.333-.827.562Zm.212-1.996a1.553 1.553 0 0 0-.213 1.994l.829-.559a.553.553 0 0 1 .077-.713l-.693-.722Zm1.169-1.119L.61 11.134l.692.722 1.168-1.118-.691-.723Zm.164-.496a.557.557 0 0 1-.166.498l.695.719c.37-.358.547-.876.455-1.393l-.984.176Zm-.28-1.584.28 1.583.984-.174-.279-1.583-.985.174Zm1.012-1.733a1.56 1.56 0 0 0-1.012 1.732l.985-.173a.56.56 0 0 1 .364-.617l-.337-.942Zm1.523-.551-1.525.552.34.94 1.526-.552-.34-.94Zm.358-.39a.551.551 0 0 1-.353.388l.33.944c.498-.174.863-.582.992-1.083l-.969-.249Zm.398-1.557-.398 1.558.969.247.398-1.558-.969-.247Zm1.63-1.172a1.568 1.568 0 0 0-1.63 1.174l.97.243a.568.568 0 0 1 .592-.42l.069-.997Zm1.618.107-1.619-.107-.066.997 1.618.108.067-.998Zm.489-.214a.572.572 0 0 1-.486.214l-.073.997a1.572 1.572 0 0 0 1.345-.593l-.786-.618Zm1.004-1.264L8.693 2.423l.783.622 1.003-1.261-.783-.623Zm1.967-.413a1.578 1.578 0 0 0-1.967.413l.783.622a.578.578 0 0 1 .722-.148l.462-.887Zm1.438.751L11.663.75l-.463.886 1.438.75.463-.886Zm.541 0a.587.587 0 0 1-.543 0l-.46.887c.46.239 1.004.239 1.463 0l-.46-.887Zm1.436-.75-1.437.75.463.887 1.437-.751-.463-.887Zm1.967.412A1.58 1.58 0 0 0 15.076.75l.467.885a.58.58 0 0 1 .72.15l.782-.623Zm1.003 1.262-1.003-1.262-.783.623 1.003 1.261.783-.622Zm.488.216a.566.566 0 0 1-.487-.214l-.785.619c.32.405.82.63 1.344.593l-.072-.998Zm1.62-.107-1.617.107.066.998 1.618-.108-.066-.997Zm1.63 1.174a1.568 1.568 0 0 0-1.63-1.174l.069.997c.28-.02.528.165.592.42l.97-.243Zm.398 1.556-.398-1.558-.969.247.398 1.558.97-.247Zm.36.39a.57.57 0 0 1-.36-.393l-.968.253c.13.496.494.9.984 1.079l.343-.94Zm1.523.55-1.525-.551-.34.94 1.525.552.34-.94Zm1.01 1.731a1.556 1.556 0 0 0-1.012-1.731l-.336.942c.258.092.409.353.363.618l.985.171Zm-.28 1.585.28-1.583-.985-.174-.279 1.583.985.174Zm.166.5a.557.557 0 0 1-.165-.499l-.985-.176a1.557 1.557 0 0 0 .455 1.393l.695-.719Zm1.167 1.116-1.169-1.119-.691.723 1.168 1.118.692-.722Zm.212 1.997a1.554 1.554 0 0 0-.211-1.997l-.693.722c.198.19.228.491.078.71l.826.565Zm-.904 1.332.905-1.333-.828-.562-.905 1.333.828.562Zm-.055.515a.546.546 0 0 1 .056-.516l-.83-.56c-.287.427-.35.971-.15 1.456l.924-.38Zm.606 1.494-.605-1.492-.927.376.605 1.492.927-.376Zm-.625 1.906a1.548 1.548 0 0 0 .624-1.91l-.924.383a.548.548 0 0 1-.225.675l.525.852Zm-1.265.785 1.266-.786-.527-.85-1.267.787.528.85Zm-.112.069.109-.067-.522-.853-.109.067.522.853Zm-.263.453a.558.558 0 0 1 .264-.454l-.523-.852a1.558 1.558 0 0 0-.74 1.262l1 .044Zm-.061 1.602.061-1.604-.999-.039-.062 1.604 1 .039Zm-1.351 1.487a1.565 1.565 0 0 0 1.35-1.487l-.999-.04a.565.565 0 0 1-.49.537l.139.99Zm-1.608.225 1.608-.225-.139-.99-1.608.224.139.99Zm-.432.307a.569.569 0 0 1 .435-.308l-.144-.99a1.569 1.569 0 0 0-1.19.858l.899.44Zm-.714 1.442.713-1.44-.896-.444-.714 1.44.896.444Zm-1.837.812c.725.2 1.5-.13 1.837-.812l-.897-.443a.578.578 0 0 1-.675.291l-.265.964Z\" fill=\"var(--chirp-ui-bg-brand-accent-05, #cfe3e2)\"></path><path d=\"M26.474 5.242a2.022 2.022 0 0 0-2.822-.216L11.767 15.082l-2.584-3.158a2.015 2.015 0 0 0-2.813-.3 1.96 1.96 0 0 0-.303 2.78l3.663 4.473a2.355 2.355 0 0 0 3.334.304l13.19-11.15c.839-.713.936-1.962.22-2.789Z\" fill=\"var(--chirp-ui-bg-brand-accent-04, #ccfbf7)\"></path></svg></div><div class=\"author_little_author_card__TkFdO\"><p>WRITTEN BY</p><a href=\"/author/dr-brittany-grenus\">Brittany Grenus, DVM</a><p>Veterinarian</p><p>Dr. Brittany Grenus graduated from Tufts Cummings School of Veterinary Medicine in 2018 with her doctorate in veterinary medicine and a...</p></div></div>, <div class=\"author_little_little_author_image_card__c2fH3\"><div class=\"petmd_image_petimage__1rksv\"><a aria-hidden=\"false\" href=\"/author/dr-brittany-grenus\" tabindex=\"0\" target=\"_self\"><span style=\"box-sizing:border-box;display:inline-block;overflow:hidden;width:initial;height:initial;background:none;opacity:1;border:0;margin:0;padding:0;position:relative;max-width:100%\"><span style=\"box-sizing:border-box;display:block;width:initial;height:initial;background:none;opacity:1;border:0;margin:0;padding:0;max-width:100%\"><img alt=\"\" aria-hidden=\"true\" src=\"data:image/svg+xml,%3csvg%20xmlns=%27http://www.w3.org/2000/svg%27%20version=%271.1%27%20width=%2780%27%20height=%2780%27/%3e\" style=\"display:block;max-width:100%;width:initial;height:initial;background:none;opacity:1;border:0;margin:0;padding:0\"/></span><img alt=\"Brittany Grenus, DVM\" data-nimg=\"intrinsic\" decoding=\"async\" src=\"data:image/gif;base64,R0lGODlhAQABAIAAAAAAAP///yH5BAEAAAAALAAAAAABAAEAAAIBRAA7\" style=\"position:absolute;top:0;left:0;bottom:0;right:0;box-sizing:border-box;padding:0;border:none;margin:auto;display:block;width:0;height:0;min-width:100%;max-width:100%;min-height:100%;max-height:100%\"/><noscript><img alt=\"Brittany Grenus, DVM\" data-nimg=\"intrinsic\" decoding=\"async\" loading=\"lazy\" src=\"https://image.petmd.com/files/styles/user_image/public/pictures/2021-09/Brittany%20Grenus%20Headshot%20copy.jpeg?w=256&amp;q=75\" srcset=\"https://image.petmd.com/files/styles/user_image/public/pictures/2021-09/Brittany%20Grenus%20Headshot%20copy.jpeg?w=96&amp;q=75 1x, https://image.petmd.com/files/styles/user_image/public/pictures/2021-09/Brittany%20Grenus%20Headshot%20copy.jpeg?w=256&amp;q=75 2x\" style=\"position:absolute;top:0;left:0;bottom:0;right:0;box-sizing:border-box;padding:0;border:none;margin:auto;display:block;width:0;height:0;min-width:100%;max-width:100%;min-height:100%;max-height:100%\"/></noscript></span></a></div></div>, <div class=\"author_little_little_author_checkmark_cardview__Zl9LF\"><svg viewbox=\"0 0 28 27\" xmlns=\"http://www.w3.org/2000/svg\"><path clip-rule=\"evenodd\" d=\"m17.853 25.078-1.561-.44h-.01c-.125-.03-.249-.04-.373-.03a1.075 1.075 0 0 0-.61.235l-1.246 1.032a1.087 1.087 0 0 1-1.375 0l-1.246-1.032a1.154 1.154 0 0 0-.388-.194 1.07 1.07 0 0 0-.595-.01l-1.56.44a1.075 1.075 0 0 1-1.257-.553l-.714-1.44a1.069 1.069 0 0 0-.811-.582l-1.608-.225a1.07 1.07 0 0 1-.92-1.012l-.063-1.604a1.038 1.038 0 0 0-.434-.802c-.02-.02-.067-.056-.067-.056l-1.375-.853a1.054 1.054 0 0 1-.424-1.292l.605-1.492a1.047 1.047 0 0 0-.104-.986L.812 12.85c-.29-.43-.227-.996.145-1.354l1.169-1.119c.253-.245.372-.597.31-.945l-.28-1.583a1.06 1.06 0 0 1 .688-1.175L4.37 6.12c.337-.117.585-.393.673-.736l.398-1.558a1.068 1.068 0 0 1 1.111-.796l1.619.107c.351.025.697-.128.915-.404l1.003-1.262c.32-.403.884-.52 1.344-.28l1.437.75c.316.164.688.164 1.003 0l1.437-.75a1.08 1.08 0 0 1 1.345.28l1.003 1.262c.217.276.558.43.915.404l1.618-.107c.517-.036.987.3 1.112.796l.398 1.558c.088.338.336.613.672.736l1.525.552c.486.173.776.669.688 1.175l-.28 1.583c-.062.348.057.7.31.945l1.17 1.12c.371.357.433.929.144 1.353l-.905 1.333a1.047 1.047 0 0 0-.103.986l.605 1.492a1.049 1.049 0 0 1-.424 1.292l-1.267.787-.109.066c-.3.184-.486.506-.501.858l-.062 1.604c-.02.516-.409.94-.92 1.012l-1.608.225a1.069 1.069 0 0 0-.812.582l-.713 1.44c-.228.46-.755.69-1.257.552Z\" fill=\"var(--chirp-ui-bg-brand-accent-03, #00A997)\" fill-rule=\"evenodd\"></path><path d=\"m16.292 24.639.135-.481a.5.5 0 0 0-.135-.02v.5Zm1.561.44-.135.48.003.001.132-.482Zm-1.572-.44-.12.485a.5.5 0 0 0 .12.015v-.5Zm-.372-.03.035.498h.006l-.04-.499Zm-.61.234-.316-.388-.003.003.32.385Zm-1.246 1.032.317.387.002-.002-.319-.385Zm-1.375 0-.32.385.002.002.318-.387Zm-1.246-1.032.319-.385a.664.664 0 0 0-.013-.01l-.306.395Zm-.388-.194-.14.48.14-.48Zm-.595-.01.136.481h.002l-.137-.481Zm-1.56.44-.136-.482H8.75l.138.481Zm-1.257-.553.448-.221-.448.221Zm-.714-1.44-.449.22.001.002.448-.222Zm-.811-.582.072-.495h-.003l-.07.495Zm-1.608-.225.069-.495-.07.495Zm-.92-1.012-.5.02.5-.02Zm-.063-1.604-.5.016v.004l.5-.02Zm-.434-.802-.351.356a.498.498 0 0 0 .056.048l.295-.404Zm-.067-.056.305-.396a.495.495 0 0 0-.042-.029l-.263.425Zm-1.375-.853.263-.425h-.001l-.262.425Zm-.424-1.292-.464-.188.464.188Zm.605-1.492-.463-.19v.002l.463.188Zm-.104-.986.415-.28H2.13l-.414.28ZM.812 12.85l-.414.28.414-.28Zm.145-1.354-.346-.361.346.361Zm1.169-1.119.345.362.002-.002-.347-.36Zm.31-.945-.493.087v.001l.493-.088Zm-.28-1.583-.492.086.493-.086Zm.688-1.175.169.47h.001l-.17-.47ZM4.37 6.12l-.165-.472-.005.002.17.47Zm.673-.736.484.125-.484-.125Zm.398-1.558.484.124V3.95l-.484-.122Zm1.111-.796-.034.498h.001l.033-.498Zm1.619.107.036-.499h-.003l-.033.499Zm.915-.404-.392-.31-.001.001.393.31Zm1.003-1.262.391.312-.391-.312Zm1.344-.28.231-.444-.231.444Zm1.437.75-.231.444h.001l.23-.444Zm1.003 0 .23.444h.002l-.232-.444Zm1.437-.75.232.443.002-.001-.234-.442Zm1.345.28-.392.311.392-.31Zm1.003 1.262.393-.309-.002-.002-.391.311Zm.915.404-.033-.5-.003.001.036.499Zm1.618-.107.033.498h.002l-.035-.498Zm1.112.796-.485.122v.002l.485-.124Zm.398 1.558-.485.124v.003l.485-.127Zm.672.736-.172.47h.002l.17-.47Zm1.525.552-.17.47h.002l.168-.47Zm.688 1.175.492.087v-.002l-.492-.085Zm-.28 1.583.493.088-.493-.088Zm.31.945-.347.36.002.002.346-.362Zm1.17 1.12.346-.362h-.001l-.346.361Zm.144 1.353-.413-.282v.001l.413.28Zm-.905 1.333-.414-.28.414.28Zm-.103.986.463-.188v-.002l-.463.19Zm.605 1.492-.464.188.002.003.462-.191Zm-.424 1.292-.263-.426-.001.001.264.425Zm-1.267.787.26.426.004-.002-.264-.424Zm-.109.066-.26-.426h-.001l.261.426Zm-.501.858-.5-.022v.003l.5.02Zm-.062 1.604.5.02-.5-.02Zm-.92 1.012-.07-.495.07.495Zm-1.608.225-.07-.496h-.002l.072.496Zm-.812.582.448.222.001-.002-.45-.22Zm-.713 1.44-.449-.221.448.221Zm-2.954.594 1.562.44.27-.963-1.56-.44-.272.963Zm.125.019h.01v-1h-.01v1Zm-.33-.032a.651.651 0 0 1 .21.017l.24-.97a1.649 1.649 0 0 0-.533-.044l.082.997Zm-.336.124a.575.575 0 0 1 .329-.124l-.07-.998a1.574 1.574 0 0 0-.89.346l.63.776Zm-1.243 1.03 1.246-1.033-.638-.77-1.246 1.032.638.77Zm-2.011 0a1.587 1.587 0 0 0 2.01 0l-.635-.772a.587.587 0 0 1-.74 0l-.636.773Zm-1.248-1.033 1.246 1.032.638-.77-1.246-1.032-.638.77Zm-.21-.099c.089.026.16.061.223.11l.612-.791a1.65 1.65 0 0 0-.553-.279l-.281.96Zm-.316-.01a.572.572 0 0 1 .316.01l.282-.96a1.568 1.568 0 0 0-.873-.01l.275.96Zm-1.563.44 1.561-.439-.27-.962-1.562.439.27.962Zm-1.84-.81a1.575 1.575 0 0 0 1.843.81l-.277-.961a.575.575 0 0 1-.67-.293l-.896.443Zm-.714-1.441.714 1.44.896-.443-.714-1.441-.896.444Zm-.435-.31a.569.569 0 0 1 .434.308l.898-.44a1.569 1.569 0 0 0-1.188-.857l-.144.99Zm-1.605-.224 1.607.225.139-.99-1.608-.225-.138.99Zm-1.351-1.486c.03.753.6 1.381 1.35 1.486l.139-.99a.57.57 0 0 1-.49-.537l-1 .04Zm-.062-1.605.062 1.604 1-.039-.063-1.604-1 .039Zm-.23-.418a.538.538 0 0 1 .23.414l1-.032a1.538 1.538 0 0 0-.64-1.19l-.59.808Zm.228-.46-.305.397.004.003a.56.56 0 0 1 .012.01c.015.011.014.011.005.002l.703-.711a1.111 1.111 0 0 0-.103-.088l-.008-.006a.076.076 0 0 1-.003-.003l-.305.396Zm-1.639-.428 1.375.853.527-.85-1.375-.853-.527.85Zm-.624-1.904a1.554 1.554 0 0 0 .625 1.905l.525-.852a.554.554 0 0 1-.222-.68l-.928-.373Zm.605-1.493-.605 1.492.927.375.605-1.491-.927-.376Zm-.054-.518a.547.547 0 0 1 .055.516l.925.38c.2-.485.137-1.029-.151-1.456l-.83.56ZM.399 13.13l.904 1.333.828-.562-.905-1.333-.827.562Zm.212-1.996a1.553 1.553 0 0 0-.213 1.994l.829-.559a.553.553 0 0 1 .077-.713l-.693-.722Zm1.169-1.119L.61 11.134l.692.722 1.168-1.118-.691-.723Zm.164-.496a.557.557 0 0 1-.166.498l.695.719c.37-.358.547-.876.455-1.393l-.984.176Zm-.28-1.584.28 1.583.984-.174-.279-1.583-.985.174Zm1.012-1.733a1.56 1.56 0 0 0-1.012 1.732l.985-.173a.56.56 0 0 1 .364-.617l-.337-.942Zm1.523-.551-1.525.552.34.94 1.526-.552-.34-.94Zm.358-.39a.551.551 0 0 1-.353.388l.33.944c.498-.174.863-.582.992-1.083l-.969-.249Zm.398-1.557-.398 1.558.969.247.398-1.558-.969-.247Zm1.63-1.172a1.568 1.568 0 0 0-1.63 1.174l.97.243a.568.568 0 0 1 .592-.42l.069-.997Zm1.618.107-1.619-.107-.066.997 1.618.108.067-.998Zm.489-.214a.572.572 0 0 1-.486.214l-.073.997a1.572 1.572 0 0 0 1.345-.593l-.786-.618Zm1.004-1.264L8.693 2.423l.783.622 1.003-1.261-.783-.623Zm1.967-.413a1.578 1.578 0 0 0-1.967.413l.783.622a.578.578 0 0 1 .722-.148l.462-.887Zm1.438.751L11.663.75l-.463.886 1.438.75.463-.886Zm.541 0a.587.587 0 0 1-.543 0l-.46.887c.46.239 1.004.239 1.463 0l-.46-.887Zm1.436-.75-1.437.75.463.887 1.437-.751-.463-.887Zm1.967.412A1.58 1.58 0 0 0 15.076.75l.467.885a.58.58 0 0 1 .72.15l.782-.623Zm1.003 1.262-1.003-1.262-.783.623 1.003 1.261.783-.622Zm.488.216a.566.566 0 0 1-.487-.214l-.785.619c.32.405.82.63 1.344.593l-.072-.998Zm1.62-.107-1.617.107.066.998 1.618-.108-.066-.997Zm1.63 1.174a1.568 1.568 0 0 0-1.63-1.174l.069.997c.28-.02.528.165.592.42l.97-.243Zm.398 1.556-.398-1.558-.969.247.398 1.558.97-.247Zm.36.39a.57.57 0 0 1-.36-.393l-.968.253c.13.496.494.9.984 1.079l.343-.94Zm1.523.55-1.525-.551-.34.94 1.525.552.34-.94Zm1.01 1.731a1.556 1.556 0 0 0-1.012-1.731l-.336.942c.258.092.409.353.363.618l.985.171Zm-.28 1.585.28-1.583-.985-.174-.279 1.583.985.174Zm.166.5a.557.557 0 0 1-.165-.499l-.985-.176a1.557 1.557 0 0 0 .455 1.393l.695-.719Zm1.167 1.116-1.169-1.119-.691.723 1.168 1.118.692-.722Zm.212 1.997a1.554 1.554 0 0 0-.211-1.997l-.693.722c.198.19.228.491.078.71l.826.565Zm-.904 1.332.905-1.333-.828-.562-.905 1.333.828.562Zm-.055.515a.546.546 0 0 1 .056-.516l-.83-.56c-.287.427-.35.971-.15 1.456l.924-.38Zm.606 1.494-.605-1.492-.927.376.605 1.492.927-.376Zm-.625 1.906a1.548 1.548 0 0 0 .624-1.91l-.924.383a.548.548 0 0 1-.225.675l.525.852Zm-1.265.785 1.266-.786-.527-.85-1.267.787.528.85Zm-.112.069.109-.067-.522-.853-.109.067.522.853Zm-.263.453a.558.558 0 0 1 .264-.454l-.523-.852a1.558 1.558 0 0 0-.74 1.262l1 .044Zm-.061 1.602.061-1.604-.999-.039-.062 1.604 1 .039Zm-1.351 1.487a1.565 1.565 0 0 0 1.35-1.487l-.999-.04a.565.565 0 0 1-.49.537l.139.99Zm-1.608.225 1.608-.225-.139-.99-1.608.224.139.99Zm-.432.307a.569.569 0 0 1 .435-.308l-.144-.99a1.569 1.569 0 0 0-1.19.858l.899.44Zm-.714 1.442.713-1.44-.896-.444-.714 1.44.896.444Zm-1.837.812c.725.2 1.5-.13 1.837-.812l-.897-.443a.578.578 0 0 1-.675.291l-.265.964Z\" fill=\"var(--chirp-ui-bg-brand-accent-05, #cfe3e2)\"></path><path d=\"M26.474 5.242a2.022 2.022 0 0 0-2.822-.216L11.767 15.082l-2.584-3.158a2.015 2.015 0 0 0-2.813-.3 1.96 1.96 0 0 0-.303 2.78l3.663 4.473a2.355 2.355 0 0 0 3.334.304l13.19-11.15c.839-.713.936-1.962.22-2.789Z\" fill=\"var(--chirp-ui-bg-brand-accent-04, #ccfbf7)\"></path></svg></div>, <div class=\"author_little_author_card__TkFdO\"><p>WRITTEN BY</p><a href=\"/author/dr-brittany-grenus\">Brittany Grenus, DVM</a><p>Veterinarian</p><p>Dr. Brittany Grenus graduated from Tufts Cummings School of Veterinary Medicine in 2018 with her doctorate in veterinary medicine and a...</p></div>]\n"
     ]
    }
   ],
   "source": [
    "url = 'https://www.petmd.com/dog/general-health/how-to-handle-fleas-on-dogs'\n",
    "url = 'https://www.petmd.com/dog/general-health/traveling-with-puppy'\n",
    "httpResponeContent = fetch_data(url)\n",
    "rawContent = parser_to_content_html(httpResponeContent)\n",
    "print('a:',rawContent[0].select('[class^=\"kib-container\"]'))\n",
    "print('b:',rawContent[0].select('[class^=\"kib-divider\"]'))\n",
    "print('c:',rawContent[0].select('[class^=\"author_little_\"]'))"
   ]
  },
  {
   "cell_type": "code",
   "execution_count": 99,
   "id": "88404f1c-9b70-4fd6-9c82-2858975431f4",
   "metadata": {},
   "outputs": [
    {
     "name": "stdout",
     "output_type": "stream",
     "text": [
      "a: []\n",
      "b: []\n",
      "c: []\n",
      "d: [<p><strong><a href=\"https://www.chewy.com/b/crates-kennels-369?utm_source=petmd.com&amp;utm_medium=referral&amp;utm_campaign=dog&amp;utm_term=Crate&amp;utm_content=/dog/general-health/traveling-with-puppy\" target=\"_blank\">Crate</a> or <a href=\"https://www.chewy.com/b/barriers-2411?utm_source=petmd.com&amp;utm_medium=referral&amp;utm_campaign=dog&amp;utm_term=dog+barrier&amp;utm_content=/dog/general-health/traveling-with-puppy\" target=\"_blank\">dog barrier</a>. </strong>This helps keep your pet safely confined during travel and provides a firm surface for your pet to stand on so he feels stable during travel. Be sure the crate is large enough for him to turn around and lie down. Bonus: If you’re staying somewhere overnight, the crate provides your dog a safe space to sleep. Be sure to <a href=\"https://www.petmd.com/dog/general-health/crate-training-puppies\">crate train your puppy</a> prior to putting him in a crate in the car.</p>, <p><strong><a href=\"https://www.chewy.com/b/harnesses-347?utm_source=petmd.com&amp;utm_medium=referral&amp;utm_campaign=dog&amp;utm_term=Harness&amp;utm_content=/dog/general-health/traveling-with-puppy\" target=\"_blank\">Harness</a> and <a href=\"https://www.chewy.com/b/seat-belts-restrainers-2409?utm_source=petmd.com&amp;utm_medium=referral&amp;utm_campaign=dog&amp;utm_term=dog+seatbelt&amp;utm_content=/dog/general-health/traveling-with-puppy\" target=\"_blank\">dog seatbelt</a>. </strong>Always use a harness with the dog seatbelts, and never attach a seatbelt to your dog’s collar. If he slips off the seat while you’re driving, it can pull on his neck, and he may not be able to get back up to loosen it.</p>, <p><strong><a href=\"https://www.chewy.com/b/leashes-346?utm_source=petmd.com&amp;utm_medium=referral&amp;utm_campaign=dog&amp;utm_term=Two+leashes&amp;utm_content=/dog/general-health/traveling-with-puppy\" target=\"_blank\">Two leashes</a></strong>—your regular leash and a spare, just in case</p>, <p><strong><a href=\"https://www.chewy.com/b/travel-bowls-bags-1472?utm_source=petmd.com&amp;utm_medium=referral&amp;utm_campaign=dog&amp;utm_term=Collapsible+water+and+food+bowls&amp;utm_content=/dog/general-health/traveling-with-puppy\" target=\"_blank\">Collapsible water and food bowls</a></strong></p>, <p><strong><a href=\"https://www.chewy.com/b/poop-bags-1443?utm_source=petmd.com&amp;utm_medium=referral&amp;utm_campaign=dog&amp;utm_term=Poop+bags&amp;utm_content=/dog/general-health/traveling-with-puppy\" target=\"_blank\">Poop bags</a></strong></p>, <p><strong>Baby wipes</strong> to clean him in case of an accident</p>, <p><strong><a href=\"https://www.chewy.com/b/puppy-food-2284?utm_source=petmd.com&amp;utm_medium=referral&amp;utm_campaign=dog&amp;utm_term=Food&amp;utm_content=/dog/general-health/traveling-with-puppy\" target=\"_blank\">Food</a></strong></p>, <p><strong><a href=\"https://www.chewy.com/b/treats-335?utm_source=petmd.com&amp;utm_medium=referral&amp;utm_campaign=dog&amp;utm_term=Treats&amp;utm_content=/dog/general-health/traveling-with-puppy\" target=\"_blank\">Treats</a></strong></p>, <p><strong><a href=\"https://www.chewy.com/b/toys-2288?utm_source=petmd.com&amp;utm_medium=referral&amp;utm_campaign=dog&amp;utm_term=Toys&amp;utm_content=/dog/general-health/traveling-with-puppy\" target=\"_blank\">Toys</a></strong></p>, <p><strong><a href=\"https://www.chewy.com/b/blankets-13294?utm_source=petmd.com&amp;utm_medium=referral&amp;utm_campaign=dog&amp;utm_term=Blanket&amp;utm_content=/dog/general-health/traveling-with-puppy\" target=\"_blank\">Blanket</a> or <a href=\"https://www.chewy.com/b/beds-365?utm_source=petmd.com&amp;utm_medium=referral&amp;utm_campaign=dog&amp;utm_term=bed&amp;utm_content=/dog/general-health/traveling-with-puppy\" target=\"_blank\">bed</a></strong></p>, <p><strong><a href=\"https://www.chewy.com/b/first-aid-kits-tools-2665?utm_source=petmd.com&amp;utm_medium=referral&amp;utm_campaign=dog&amp;utm_term=Pet+first+aid+kit&amp;utm_content=/dog/general-health/traveling-with-puppy\" target=\"_blank\">Pet first aid kit</a></strong></p>, <p><strong><a href=\"https://www.chewy.com/doggles-ils-dog-goggles/dp/145727?utm_source=petmd.com&amp;utm_medium=referral&amp;utm_campaign=dog&amp;utm_term=Doggles+%28dog+goggles%29&amp;utm_content=/dog/general-health/traveling-with-puppy\" target=\"_blank\">Doggles (dog goggles)</a></strong></p>, <p>Keep the car cool and comfortable.</p>, <p>Open the windows. Fresh air can help alleviate nausea for your pup, just as it does for people.</p>, <p>Avoid feeding your puppy within two or three hours of travel; traveling on a full stomach can make him more nauseous.</p>, <p>Take him for a walk prior to traveling so he feels less anxious about potentially having an accident.</p>, <p><a href=\"https://www.petmd.com/dog/care/can-i-give-my-dog-benadryl-and-if-so-how-much\">Benadryl</a><sup>®</sup></p>, <p><a href=\"https://www.petmd.com/pet-medication/meclizine-nausx-dogs-and-cats\">Meclizine</a></p>, <p>Dramamine</p>, <p><a href=\"https://www.petmd.com/pet-medication/cerenia-maropitant-citrate\">Cerenia</a><sup>®</sup></p>, <p>Featured Image: Getty/Eva Blanco</p>]\n"
     ]
    }
   ],
   "source": [
    "remove_Not_need_html_element(rawContent[0])\n",
    "print('a:',rawContent[0].select('[class^=\"kib-container\"]'))\n",
    "print('b:',rawContent[0].select('[class^=\"kib-divider\"]'))\n",
    "print('c:',rawContent[0].select('[class^=\"author_little_\"]'))\n",
    "print('d:',rawContent[0].select('p:last-child'))"
   ]
  },
  {
   "cell_type": "code",
   "execution_count": 100,
   "id": "f37c8628-4446-4799-839d-4c7e13c6dc4d",
   "metadata": {},
   "outputs": [
    {
     "data": {
      "text/plain": [
       "[<div class=\"article_content_article_body__GQzms\"><p>Bringing home a new puppy is an exciting time. He’s a new member of your family, and you want him to be included in everything you do—especially traveling. Fortunately, the puppy stage is the best time to get a dog comfortable with all aspects of traveling. It’s typically easier to desensitize a puppy to new things that older dogs may already fear, such as car engines, plane noises, city sounds, or trucks.</p>\n",
       " <p>While you may want to start taking your puppy on trips right away, it’s important to plan your travel while keeping your pet center of mind. Here’s what to know about traveling with a puppy so it goes as smoothly as possible—both for you and your new pup.</p>\n",
       " <a id=\"beforeyouleave\"></a>\n",
       " <h2>Before You Leave</h2>\n",
       " <p>Before you even leave for a trip with your puppy, there are a few important things you should do to prepare. The level of preparation will depend greatly on how long the trip is and where you’re heading. </p>\n",
       " <h3>1. Introduce Your Puppy to the Car</h3>\n",
       " <p>Cars can be scary for dogs when they’re not used to them, so it’s important to make your puppy feel as comfortable as possible. This begins by simply introducing your pup to the car well before he’s going for a ride.</p>\n",
       " <p>Let him walk around and sniff the car. Allow him time to get comfortable in his area of the car and get settled in.</p>\n",
       " <p>Once he feels comfortable in his spot in the car, turn on the engine. As soon as he seems comfortable with the sound (this may take some time), take him for his first ride. This should be a short ride, just to the end of the street and back. <a href=\"https://www.petmd.com/dog/behavior/how-to-train-a-dog-with-positive-reinforcement\">Give him plenty of praise and treats</a> for riding quietly.</p>\n",
       " <p>As he gets more and more comfortable with car rides, start to gradually increase the distance he travels in the car.</p>\n",
       " <p>It’s important for your puppy to feel stable in the car. The seats can often make puppies and dogs feel insecure because they’re soft, which can make them feel off balance. Dogs often feel more secure on the floor or in the trunk of an SUV, because the floor is solid and they have a more stable grip. Do NOT put your puppy in a closed-in trunk, such as in a sedan.</p>\n",
       " <h3>2. Gather Your Gear</h3>\n",
       " <p>Once your pup is comfortable in the car and you’re planning your first trip, make sure you have all the items you need for him.</p>\n",
       " <ol>\n",
       " <li>\n",
       " <p><strong><a href=\"https://www.chewy.com/b/crates-kennels-369?utm_source=petmd.com&amp;utm_medium=referral&amp;utm_campaign=dog&amp;utm_term=Crate&amp;utm_content=/dog/general-health/traveling-with-puppy\" target=\"_blank\">Crate</a> or <a href=\"https://www.chewy.com/b/barriers-2411?utm_source=petmd.com&amp;utm_medium=referral&amp;utm_campaign=dog&amp;utm_term=dog+barrier&amp;utm_content=/dog/general-health/traveling-with-puppy\" target=\"_blank\">dog barrier</a>. </strong>This helps keep your pet safely confined during travel and provides a firm surface for your pet to stand on so he feels stable during travel. Be sure the crate is large enough for him to turn around and lie down. Bonus: If you’re staying somewhere overnight, the crate provides your dog a safe space to sleep. Be sure to <a href=\"https://www.petmd.com/dog/general-health/crate-training-puppies\">crate train your puppy</a> prior to putting him in a crate in the car.</p>\n",
       " </li>\n",
       " <li>\n",
       " <p><strong><a href=\"https://www.chewy.com/b/harnesses-347?utm_source=petmd.com&amp;utm_medium=referral&amp;utm_campaign=dog&amp;utm_term=Harness&amp;utm_content=/dog/general-health/traveling-with-puppy\" target=\"_blank\">Harness</a> and <a href=\"https://www.chewy.com/b/seat-belts-restrainers-2409?utm_source=petmd.com&amp;utm_medium=referral&amp;utm_campaign=dog&amp;utm_term=dog+seatbelt&amp;utm_content=/dog/general-health/traveling-with-puppy\" target=\"_blank\">dog seatbelt</a>. </strong>Always use a harness with the dog seatbelts, and never attach a seatbelt to your dog’s collar. If he slips off the seat while you’re driving, it can pull on his neck, and he may not be able to get back up to loosen it.</p>\n",
       " </li>\n",
       " <li>\n",
       " <p><strong><a href=\"https://www.chewy.com/b/leashes-346?utm_source=petmd.com&amp;utm_medium=referral&amp;utm_campaign=dog&amp;utm_term=Two+leashes&amp;utm_content=/dog/general-health/traveling-with-puppy\" target=\"_blank\">Two leashes</a></strong>—your regular leash and a spare, just in case</p>\n",
       " </li>\n",
       " <li>\n",
       " <p><strong><a href=\"https://www.chewy.com/b/travel-bowls-bags-1472?utm_source=petmd.com&amp;utm_medium=referral&amp;utm_campaign=dog&amp;utm_term=Collapsible+water+and+food+bowls&amp;utm_content=/dog/general-health/traveling-with-puppy\" target=\"_blank\">Collapsible water and food bowls</a></strong></p>\n",
       " </li>\n",
       " <li>\n",
       " <p><strong><a href=\"https://www.chewy.com/b/poop-bags-1443?utm_source=petmd.com&amp;utm_medium=referral&amp;utm_campaign=dog&amp;utm_term=Poop+bags&amp;utm_content=/dog/general-health/traveling-with-puppy\" target=\"_blank\">Poop bags</a></strong></p>\n",
       " </li>\n",
       " <li>\n",
       " <p><strong>Baby wipes</strong> to clean him in case of an accident</p>\n",
       " </li>\n",
       " <li>\n",
       " <p><strong><a href=\"https://www.chewy.com/b/puppy-food-2284?utm_source=petmd.com&amp;utm_medium=referral&amp;utm_campaign=dog&amp;utm_term=Food&amp;utm_content=/dog/general-health/traveling-with-puppy\" target=\"_blank\">Food</a></strong></p>\n",
       " </li>\n",
       " <li>\n",
       " <p><strong><a href=\"https://www.chewy.com/b/treats-335?utm_source=petmd.com&amp;utm_medium=referral&amp;utm_campaign=dog&amp;utm_term=Treats&amp;utm_content=/dog/general-health/traveling-with-puppy\" target=\"_blank\">Treats</a></strong></p>\n",
       " </li>\n",
       " <li>\n",
       " <p><strong><a href=\"https://www.chewy.com/b/toys-2288?utm_source=petmd.com&amp;utm_medium=referral&amp;utm_campaign=dog&amp;utm_term=Toys&amp;utm_content=/dog/general-health/traveling-with-puppy\" target=\"_blank\">Toys</a></strong></p>\n",
       " </li>\n",
       " <li>\n",
       " <p><strong><a href=\"https://www.chewy.com/b/blankets-13294?utm_source=petmd.com&amp;utm_medium=referral&amp;utm_campaign=dog&amp;utm_term=Blanket&amp;utm_content=/dog/general-health/traveling-with-puppy\" target=\"_blank\">Blanket</a> or <a href=\"https://www.chewy.com/b/beds-365?utm_source=petmd.com&amp;utm_medium=referral&amp;utm_campaign=dog&amp;utm_term=bed&amp;utm_content=/dog/general-health/traveling-with-puppy\" target=\"_blank\">bed</a></strong></p>\n",
       " </li>\n",
       " <li>\n",
       " <p><strong><a href=\"https://www.chewy.com/b/first-aid-kits-tools-2665?utm_source=petmd.com&amp;utm_medium=referral&amp;utm_campaign=dog&amp;utm_term=Pet+first+aid+kit&amp;utm_content=/dog/general-health/traveling-with-puppy\" target=\"_blank\">Pet first aid kit</a></strong></p>\n",
       " </li>\n",
       " <li>\n",
       " <p><strong><a href=\"https://www.chewy.com/doggles-ils-dog-goggles/dp/145727?utm_source=petmd.com&amp;utm_medium=referral&amp;utm_campaign=dog&amp;utm_term=Doggles+%28dog+goggles%29&amp;utm_content=/dog/general-health/traveling-with-puppy\" target=\"_blank\">Doggles (dog goggles)</a></strong></p>\n",
       " </li>\n",
       " </ol>\n",
       " <p>Interstate and international travel also require additional documentation, such as a health certificate. The needs vary depending on your travel destination, so look up all requirements through the <a href=\"https://www.aphis.usda.gov/aphis/pet-travel\" target=\"_blank\">Animal and Plant Health Inspection Service information from the United States Department of Agriculture (USDA)</a>.  </p>\n",
       " <p><strong>It’s important to check this information as soon as you know your travel dates. </strong>Getting the required documentation can take anywhere from a few days to months, depending on where you’re traveling.</p>\n",
       " <h3>3. Have Up-To-Date ID</h3>\n",
       " <p>Be sure your dog has a name tag on his collar with your contact information, and double-check that it’s securely attached to his collar. Also make sure he not only <a href=\"https://www.petmd.com/dog/care/3-reasons-microchip-your-dog-today\">has a microchip</a>, but also that the contact information associated with it is up to date.</p>\n",
       " <p>Dogs are also more likely to get lost when traveling because they’re in unfamiliar places with lots of new distractions. If he does become lost, it’s much easier for someone to contact you when all your info is current on his name tag and microchip.</p>\n",
       " <h3>4. Address Preventative Care</h3>\n",
       " <p>Depending on where you’re traveling, there may be different recommendations for preventative care for your pet. Diseases are not evenly distributed throughout the world; certain areas are more prone to certain disease processes.</p>\n",
       " <p>Talk to your vet about where you’re traveling so you can make <a href=\"https://www.petmd.com/dog/care/dog-vaccinations-for-every-lifestage\">sure your pup has all vaccines</a> and preventative medications he needs before you hit the road. Do this sooner than later, as some vaccines can take a few weeks to provide protection for your pet. There’s nothing worse than your puppy getting sick with a preventable disease while traveling!</p>\n",
       " <div class=\"kib-grid kib-grid--align-center kib-grid--valign-top pull_quote_pullquote__F1Aaf\"><div class=\"kib-grid__item kib-grid__item--span-4@min-xs kib-grid__item--span-8@md kib-grid__item--span-10@min-lg\"><blockquote class=\"pull_quote_teal__wezbN\">Talk to your vet about where you’re traveling so you can make sure your pup has all vaccines and preventative medications he needs before you hit the road.</blockquote></div></div>\n",
       " <a id=\"duringyourtrip\"></a>\n",
       " <h2>During Your Trip</h2>\n",
       " <p>Now that you’ve done everything to prepare for your trip, here’s how to travel with your puppy safely.</p>\n",
       " <h3>1. Keep Your Puppy Safe</h3>\n",
       " <p>When traveling with a puppy in the car, he should be restrained in a crate or with a dog harness seatbelt. This helps prevent him from becoming unstable and falling when turning, and it also helps keep him safe in the event of an accident.</p>\n",
       " <p>Puppy-proof your car before traveling. It’s important to make sure there’s nothing dangerous he can get into, such as loose objects he could potentially chew or <a href=\"https://www.petmd.com/dog/emergency/common-emergencies/5-common-causes-choking-pets\">choke on</a> while traveling.</p>\n",
       " <p>You also shouldn’t let your dog stick their head out the car window as you drive. It can cause his eyes to dry out, get something stuck in them, or become scratched on the surface. If your puppy tolerates dog goggles, these can make him safer.</p>\n",
       " <p>Along with danger to his eyes, there’s the risk he slips out of his harness and jumps out the window. It’s best to keep the window closed as you drive.</p>\n",
       " <h3>2. Exercise Before Traveling</h3>\n",
       " <p>Exercise not only physically exhausts puppies, but it can also <a href=\"https://www.petmd.com/dog/general-health/ways-to-keep-dog-mentally-stimulated\">mentally exhaust them</a> (depending on the type of exercise). Tired puppies are much more likely to remain calm and sleep throughout the trip. This can make the whole travel experience much smoother for both you and your pup.</p>\n",
       " <h3>3. Make Frequent Stops</h3>\n",
       " <p>How frequently a puppy needs to go to the bathroom depends on how old he is and how much water he’s consumed. In general, puppies can hold their bladder for a length of time equal to their age in months plus one. So, a 2-month-old puppy can hold his bladder for about three hours.</p>\n",
       " <p>It’s recommended to stop for potty breaks every two or three hours when traveling with a puppy. This allows him to go to the bathroom, stretch his legs, and have a water break.</p>\n",
       " <h3>4. Manage Car Sickness</h3>\n",
       " <p><a href=\"https://www.petmd.com/dog/conditions/digestive/c_dg_motion_sickness\">Puppies can get carsick</a>, but it’s important to distinguish whether they’re truly car sick or if they’re just <a href=\"https://www.petmd.com/dog/conditions/behavioral/c_dg_fears_phobia_anxiety\">anxious in the car</a>, as these are treated differently.</p>\n",
       " <p>Some of the most common signs of car sickness and anxiety are <a href=\"https://www.petmd.com/dog/symptoms/why-your-dog-excessively-drooling\">excessive drooling</a>, whining, crying, and <a href=\"https://www.petmd.com/dog/symptoms/why-is-my-dog-vomiting\">vomiting</a>. If this starts soon after getting into the car, it’s likely anxiety-related. But if symptoms begin a little while into the car ride, your pup is likely car sick.</p>\n",
       " <p>Car sickness is common in puppies, and fortunately they often outgrow it. In the meantime, there are several things we can do to help treat and prevent motion sickness.</p>\n",
       " <ul>\n",
       " <li>\n",
       " <p>Keep the car cool and comfortable.</p>\n",
       " </li>\n",
       " <li>\n",
       " <p>Open the windows. Fresh air can help alleviate nausea for your pup, just as it does for people.</p>\n",
       " </li>\n",
       " <li>\n",
       " <p>Avoid feeding your puppy within two or three hours of travel; traveling on a full stomach can make him more nauseous.</p>\n",
       " </li>\n",
       " <li>\n",
       " <p>Take him for a walk prior to traveling so he feels less anxious about potentially having an accident.</p>\n",
       " </li>\n",
       " <li>\n",
       " <p>Give him medication. Several medicines can help with nausea in the car. <strong>Talk to your veterinarian about trying the medications below, and never give your puppy medicine without a vet’s guidance.</strong></p>\n",
       " <ol>\n",
       " <li>\n",
       " <p><a href=\"https://www.petmd.com/dog/care/can-i-give-my-dog-benadryl-and-if-so-how-much\">Benadryl</a><sup>®</sup></p>\n",
       " </li>\n",
       " <li>\n",
       " <p><a href=\"https://www.petmd.com/pet-medication/meclizine-nausx-dogs-and-cats\">Meclizine</a></p>\n",
       " </li>\n",
       " <li>\n",
       " <p>Dramamine</p>\n",
       " </li>\n",
       " <li>\n",
       " <p><a href=\"https://www.petmd.com/pet-medication/cerenia-maropitant-citrate\">Cerenia</a><sup>®</sup></p>\n",
       " </li>\n",
       " </ol>\n",
       " </li>\n",
       " </ul>\n",
       " <h3>5. Regulate the Temperature</h3>\n",
       " <p>Dogs are much more <a href=\"https://www.petmd.com/dog/why-dogs-hot-cars-isnt-just-summer-issue\">prone to overheating in cars</a> than people, and puppies are especially sensitive to temperature changes. This is because their bodies aren’t as good at regulating their temperature yet.</p>\n",
       " <p>Given how quickly cars can heat up when they’re just sitting in the sun, dogs (especially puppies) should never be left in a car alone. Similarly, in winter, <a href=\"https://www.petmd.com/dog/care/how-cold-too-cold-dog\">puppies are also at risk of freezing</a> if left waiting alone in a car.</p>\n",
       " <p>Cars don’t only get hot or cold when you’re parked. The temperatures can also rise or drop drastically while driving. To help keep your pup comfortable during the summer, open the windows a little to allow more airflow. If you keep your air conditioning on, be sure it flows to him; the back of the car is often much warmer than the front seat.</p>\n",
       " <p>You can also consider window shades to help prevent direct sunlight from shining on your puppy. These are especially important if you crate your puppy in a plastic or metal crate, as these can heat up rapidly when exposed to direct sunlight.</p>\n",
       " <div class=\"kib-grid kib-grid--align-center kib-grid--valign-top pull_quote_pullquote__F1Aaf\"><div class=\"kib-grid__item kib-grid__item--span-4@min-xs kib-grid__item--span-8@md kib-grid__item--span-10@min-lg\"><blockquote class=\"pull_quote_plum__9FuDD\">Dogs are much more prone to overheating in cars than people, and puppies are especially sensitive to temperature changes.</blockquote></div></div>\n",
       " <p>In winter, keep your heat on and consider providing your puppy with a blanket to help keep him warm during travel. Check on him frequently, and remember that just because you feel comfortable does not mean he does.</p>\n",
       " <a id=\"afteryouarrive\"></a>\n",
       " <h2>After You Arrive</h2>\n",
       " <p>When arriving at a new destination, acclimate your puppy to the area. Take a walk around, showing him the yard and the home or hotel room where you’re staying.</p>\n",
       " <p>Show your puppy the new location of his water and food bowls. Lay his toys out for him so he knows he has something to play with. A familiar crate to sleep in can also help him feel much more comfortable while traveling.</p>\n",
       " <p>Check the new place for any dangers to your puppy, too. If there’s a fenced area, walk him around the perimeter of the yard on a leash, and make sure there are no breaks or holes in the fence where he could escape. It’s best to keep him on a leash until he gets used to his new environment.</p>\n",
       " <p>While this may seem like a lot, a safe and smooth trip often means an incredibly fun trip! Traveling is an amazing experience for animals and provides them lots of positive stimulation, further strengthening your bond with them.</p>\n",
       " <p>Featured Image: Getty/Eva Blanco</p>\n",
       " </div>]"
      ]
     },
     "execution_count": 100,
     "metadata": {},
     "output_type": "execute_result"
    }
   ],
   "source": [
    "rawContent"
   ]
  },
  {
   "cell_type": "code",
   "execution_count": 101,
   "id": "71b6b37b-37a8-41ec-8e82-7c90e36aa35a",
   "metadata": {},
   "outputs": [],
   "source": [
    "def preprocessing_tags(soup, tags=None):\n",
    "    if tags is not None:\n",
    "        for tag in tags:\n",
    "            for sample in soup.find_all(tag):\n",
    "                sample.replaceWith('')\n",
    "    else:\n",
    "        raise NotImplementedError(\"Tags must be set!\")\n",
    "\n",
    "    return soup.get_text()\n",
    "\n",
    "def remove_links_content(text):\n",
    "    text = re.sub(r\"http\\S+\", \"\", text)\n",
    "    return text\n",
    "\n",
    "def remove_punctuation(text):\n",
    "    import string  # noqa\n",
    "    table = str.maketrans({key: None for key in string.punctuation})\n",
    "    return text.translate(table)\n",
    "\n",
    "def remove_numeric(text):\n",
    "    import string  # noqa\n",
    "    table = str.maketrans({key: None for key in string.digits})\n",
    "    return text.translate(table)\n",
    "\n",
    "def remove_multiple_space(text):\n",
    "    return re.sub(\"\\s\\s+\", \" \", text)"
   ]
  },
  {
   "cell_type": "code",
   "execution_count": 102,
   "id": "d00e4805-ff10-45d4-ac76-c353a61d7bd2",
   "metadata": {},
   "outputs": [],
   "source": [
    "def soup_to_text (soup,tags=['pre', 'code', 'a', 'img', 'i']):\n",
    "    text = preprocessing_tags(soup, tags)\n",
    "    text = remove_links_content(text)\n",
    "    text = remove_punctuation(text)\n",
    "    text = text.replace('\\n', ' ')\n",
    "    text = remove_numeric(text)\n",
    "    text = remove_multiple_space(text)\n",
    "    text = text.lower().strip()\n",
    "    return text"
   ]
  },
  {
   "cell_type": "code",
   "execution_count": 103,
   "id": "ea8d6718-cf8e-49e9-b54c-5bd67cc4b02e",
   "metadata": {},
   "outputs": [
    {
     "data": {
      "text/plain": [
       "'bringing home a new puppy is an exciting time he’s a new member of your family and you want him to be included in everything you do—especially traveling fortunately the puppy stage is the best time to get a dog comfortable with all aspects of traveling it’s typically easier to desensitize a puppy to new things that older dogs may already fear such as car engines plane noises city sounds or trucks while you may want to start taking your puppy on trips right away it’s important to plan your travel while keeping your pet center of mind here’s what to know about traveling with a puppy so it goes as smoothly as possible—both for you and your new pup before you leave before you even leave for a trip with your puppy there are a few important things you should do to prepare the level of preparation will depend greatly on how long the trip is and where you’re heading introduce your puppy to the car cars can be scary for dogs when they’re not used to them so it’s important to make your puppy feel as comfortable as possible this begins by simply introducing your pup to the car well before he’s going for a ride let him walk around and sniff the car allow him time to get comfortable in his area of the car and get settled in once he feels comfortable in his spot in the car turn on the engine as soon as he seems comfortable with the sound this may take some time take him for his first ride this should be a short ride just to the end of the street and back for riding quietly as he gets more and more comfortable with car rides start to gradually increase the distance he travels in the car it’s important for your puppy to feel stable in the car the seats can often make puppies and dogs feel insecure because they’re soft which can make them feel off balance dogs often feel more secure on the floor or in the trunk of an suv because the floor is solid and they have a more stable grip do not put your puppy in a closedin trunk such as in a sedan gather your gear once your pup is comfortable in the car and you’re planning your first trip make sure you have all the items you need for him or this helps keep your pet safely confined during travel and provides a firm surface for your pet to stand on so he feels stable during travel be sure the crate is large enough for him to turn around and lie down bonus if you’re staying somewhere overnight the crate provides your dog a safe space to sleep be sure to prior to putting him in a crate in the car and always use a harness with the dog seatbelts and never attach a seatbelt to your dog’s collar if he slips off the seat while you’re driving it can pull on his neck and he may not be able to get back up to loosen it —your regular leash and a spare just in case baby wipes to clean him in case of an accident or interstate and international travel also require additional documentation such as a health certificate the needs vary depending on your travel destination so look up all requirements through the it’s important to check this information as soon as you know your travel dates getting the required documentation can take anywhere from a few days to months depending on where you’re traveling have uptodate id be sure your dog has a name tag on his collar with your contact information and doublecheck that it’s securely attached to his collar also make sure he not only but also that the contact information associated with it is up to date dogs are also more likely to get lost when traveling because they’re in unfamiliar places with lots of new distractions if he does become lost it’s much easier for someone to contact you when all your info is current on his name tag and microchip address preventative care depending on where you’re traveling there may be different recommendations for preventative care for your pet diseases are not evenly distributed throughout the world certain areas are more prone to certain disease processes talk to your vet about where you’re traveling so you can make and preventative medications he needs before you hit the road do this sooner than later as some vaccines can take a few weeks to provide protection for your pet there’s nothing worse than your puppy getting sick with a preventable disease while traveling talk to your vet about where you’re traveling so you can make sure your pup has all vaccines and preventative medications he needs before you hit the road during your trip now that you’ve done everything to prepare for your trip here’s how to travel with your puppy safely keep your puppy safe when traveling with a puppy in the car he should be restrained in a crate or with a dog harness seatbelt this helps prevent him from becoming unstable and falling when turning and it also helps keep him safe in the event of an accident puppyproof your car before traveling it’s important to make sure there’s nothing dangerous he can get into such as loose objects he could potentially chew or while traveling you also shouldn’t let your dog stick their head out the car window as you drive it can cause his eyes to dry out get something stuck in them or become scratched on the surface if your puppy tolerates dog goggles these can make him safer along with danger to his eyes there’s the risk he slips out of his harness and jumps out the window it’s best to keep the window closed as you drive exercise before traveling exercise not only physically exhausts puppies but it can also depending on the type of exercise tired puppies are much more likely to remain calm and sleep throughout the trip this can make the whole travel experience much smoother for both you and your pup make frequent stops how frequently a puppy needs to go to the bathroom depends on how old he is and how much water he’s consumed in general puppies can hold their bladder for a length of time equal to their age in months plus one so a monthold puppy can hold his bladder for about three hours it’s recommended to stop for potty breaks every two or three hours when traveling with a puppy this allows him to go to the bathroom stretch his legs and have a water break manage car sickness but it’s important to distinguish whether they’re truly car sick or if they’re just as these are treated differently some of the most common signs of car sickness and anxiety are whining crying and if this starts soon after getting into the car it’s likely anxietyrelated but if symptoms begin a little while into the car ride your pup is likely car sick car sickness is common in puppies and fortunately they often outgrow it in the meantime there are several things we can do to help treat and prevent motion sickness keep the car cool and comfortable open the windows fresh air can help alleviate nausea for your pup just as it does for people avoid feeding your puppy within two or three hours of travel traveling on a full stomach can make him more nauseous take him for a walk prior to traveling so he feels less anxious about potentially having an accident give him medication several medicines can help with nausea in the car talk to your veterinarian about trying the medications below and never give your puppy medicine without a vet’s guidance ® dramamine ® regulate the temperature dogs are much more than people and puppies are especially sensitive to temperature changes this is because their bodies aren’t as good at regulating their temperature yet given how quickly cars can heat up when they’re just sitting in the sun dogs especially puppies should never be left in a car alone similarly in winter if left waiting alone in a car cars don’t only get hot or cold when you’re parked the temperatures can also rise or drop drastically while driving to help keep your pup comfortable during the summer open the windows a little to allow more airflow if you keep your air conditioning on be sure it flows to him the back of the car is often much warmer than the front seat you can also consider window shades to help prevent direct sunlight from shining on your puppy these are especially important if you crate your puppy in a plastic or metal crate as these can heat up rapidly when exposed to direct sunlight dogs are much more prone to overheating in cars than people and puppies are especially sensitive to temperature changes in winter keep your heat on and consider providing your puppy with a blanket to help keep him warm during travel check on him frequently and remember that just because you feel comfortable does not mean he does after you arrive when arriving at a new destination acclimate your puppy to the area take a walk around showing him the yard and the home or hotel room where you’re staying show your puppy the new location of his water and food bowls lay his toys out for him so he knows he has something to play with a familiar crate to sleep in can also help him feel much more comfortable while traveling check the new place for any dangers to your puppy too if there’s a fenced area walk him around the perimeter of the yard on a leash and make sure there are no breaks or holes in the fence where he could escape it’s best to keep him on a leash until he gets used to his new environment while this may seem like a lot a safe and smooth trip often means an incredibly fun trip traveling is an amazing experience for animals and provides them lots of positive stimulation further strengthening your bond with them featured image gettyeva blanco'"
      ]
     },
     "execution_count": 103,
     "metadata": {},
     "output_type": "execute_result"
    }
   ],
   "source": [
    "te = soup_to_text(rawContent[0])\n",
    "te"
   ]
  },
  {
   "cell_type": "code",
   "execution_count": 104,
   "id": "8e942ff4-826f-4820-9e52-a8b55af37167",
   "metadata": {},
   "outputs": [
    {
     "data": {
      "text/plain": [
       "'Mang về nhà một chú chó con mới là khoảng thời gian thú vị vì nó là thành viên mới của gia đình bạn và bạn muốn nó tham gia vào mọi việc bạn làm — may mắn thay, đặc biệt là đi du lịch, giai đoạn dành cho chó con là thời điểm tốt nhất để giúp chú chó thoải mái với mọi khía cạnh của việc đi du lịch. dễ dàng hơn để làm giảm sự nhạy cảm của chó con với những điều mới mà những chú chó lớn hơn có thể đã sợ hãi chẳng hạn như động cơ ô tô, tiếng ồn máy bay, âm thanh của thành phố hoặc xe tải trong khi bạn có thể muốn bắt đầu đưa chó con đi du lịch ngay lập tức. Đây là những điều cần biết về việc đi du lịch cùng chó con để mọi việc diễn ra suôn sẻ nhất có thể—cho cả bạn và chú chó con mới của bạn trước khi lên đường trước khi bạn lên đường đi du lịch cùng chó con của mình, có một số điều quan trọng bạn nên làm để chuẩn bị cho cấp độ Việc chuẩn bị sẽ phụ thuộc rất nhiều vào thời gian của chuyến đi và nơi bạn sắp đến. Cho chó con làm quen với ô tô. Ô tô có thể khiến chó sợ hãi khi chúng chưa quen với chúng, vì vậy điều quan trọng là phải làm cho chó con của bạn cảm thấy thoải mái nhất có thể. bắt đầu bằng cách chỉ cần giới thiệu chú chó con của bạn với ô tô thật kỹ trước khi chúng đi xe, hãy để chúng đi bộ xung quanh và ngửi chiếc xe cho phép chúng có thời gian để làm quen với khu vực của mình trong xe và ổn định chỗ ngồi khi chúng cảm thấy thoải mái ở vị trí của mình.'"
      ]
     },
     "execution_count": 104,
     "metadata": {},
     "output_type": "execute_result"
    }
   ],
   "source": [
    "from deep_translator import GoogleTranslator\n",
    "  \n",
    "GoogleTranslator(source='en', target='vi').translate('bringing home a new puppy is an exciting time he’s a new member of your family and you want him to be included in everything you do—especially traveling fortunately the puppy stage is the best time to get a dog comfortable with all aspects of traveling it’s typically easier to desensitize a puppy to new things that older dogs may already fear such as car engines plane noises city sounds or trucks while you may want to start taking your puppy on trips right away it’s important to plan your travel while keeping your pet center of mind here’s what to know about traveling with a puppy so it goes as smoothly as possible—both for you and your new pup before you leave before you even leave for a trip with your puppy there are a few important things you should do to prepare the level of preparation will depend greatly on how long the trip is and where you’re heading introduce your puppy to the car cars can be scary for dogs when they’re not used to them so it’s important to make your puppy feel as comfortable as possible this begins by simply introducing your pup to the car well before he’s going for a ride let him walk around and sniff the car allow him time to get comfortable in his area of the car and get settled in once he feels comfortable in his spot in ')"
   ]
  },
  {
   "cell_type": "code",
   "execution_count": 105,
   "id": "a846ca2d-ece2-4451-9ef7-41fa5cacef63",
   "metadata": {},
   "outputs": [],
   "source": [
    "from deep_translator import GoogleTranslator\n",
    "\n",
    "def translate_long_text(text, source_lang='auto', target_lang='vi'):\n",
    "    # Split the text into chunks of 50,000 characters or less\n",
    "    chunks = []\n",
    "    start = 0\n",
    "    while start < len(text):\n",
    "        end = min(start + 4500, len(text))\n",
    "        chunks.append(text[start:end])\n",
    "        start = end\n",
    "\n",
    "    # Translate each chunk separately\n",
    "    translated_chunks = []\n",
    "    for chunk in chunks:\n",
    "        translated_chunk = GoogleTranslator(source=source_lang, target=target_lang).translate(chunk)\n",
    "        translated_chunks.append(translated_chunk)\n",
    "\n",
    "    # Combine the translated chunks into a single string\n",
    "    translated_text = ''.join(translated_chunks)\n",
    "\n",
    "    return translated_text"
   ]
  },
  {
   "cell_type": "code",
   "execution_count": 106,
   "id": "36aa9ce6-ddf2-4b61-99d6-e494fc2b2272",
   "metadata": {},
   "outputs": [
    {
     "data": {
      "text/plain": [
       "'Mang về nhà một chú chó con mới là khoảng thời gian thú vị vì nó là thành viên mới của gia đình bạn và bạn muốn nó tham gia vào mọi việc bạn làm — may mắn thay, đặc biệt là đi du lịch, giai đoạn dành cho chó con là thời điểm tốt nhất để giúp chú chó thoải mái với mọi khía cạnh của việc đi du lịch. dễ dàng hơn để làm giảm sự nhạy cảm của chó con với những điều mới mà những chú chó lớn hơn có thể đã sợ hãi chẳng hạn như động cơ ô tô, tiếng ồn máy bay, âm thanh của thành phố hoặc xe tải trong khi bạn có thể muốn bắt đầu đưa chó con đi du lịch ngay lập tức. Đây là những điều cần biết về việc đi du lịch cùng chó con để mọi việc diễn ra suôn sẻ nhất có thể—cho cả bạn và chú chó con mới của bạn trước khi lên đường trước khi bạn lên đường đi du lịch cùng chó con của mình, có một số điều quan trọng bạn nên làm để chuẩn bị cho cấp độ Việc chuẩn bị sẽ phụ thuộc rất nhiều vào thời gian của chuyến đi và nơi bạn sắp đến. Cho chó con làm quen với ô tô. Ô tô có thể khiến chó sợ hãi khi chúng chưa quen với chúng, vì vậy điều quan trọng là phải làm cho chó con của bạn cảm thấy thoải mái nhất có thể. bắt đầu bằng cách chỉ cần giới thiệu chú chó con của bạn với ô tô thật kỹ trước khi chúng đi xe, hãy để chúng đi dạo xung quanh và ngửi chiếc xe cho phép chúng có thời gian để làm quen với khu vực của mình trên xe và ổn định chỗ ngồi khi chúng cảm thấy thoải mái ở vị trí của mình trong xe nổ máy ngay khi anh ấy có vẻ thoải mái với âm thanh đó có thể mất một chút thời gian để anh ấy đạp xe lần đầu tiên. Đây sẽ là một chuyến đi ngắn chỉ đến cuối đường và quay lại để đạp xe nhẹ nhàng khi anh ấy ngày càng thoải mái hơn với những chuyến đi bằng ô tô bắt đầu tăng dần quãng đường chúng di chuyển trong ô tô. Điều quan trọng là chó con của bạn phải cảm thấy ổn định trong ô tô. Ghế ngồi thường có thể khiến chó con và chó cảm thấy không an toàn vì chúng mềm, điều này có thể khiến chúng cảm thấy mất thăng bằng. Chó thường cảm thấy khó chịu hơn cố định trên sàn hoặc trong cốp xe suv vì sàn chắc chắn và chúng có độ bám ổn định hơn. Đừng đặt chó con của bạn vào cốp đóng kín chẳng hạn như trong xe sedan, hãy thu thập đồ đạc của bạn sau khi chó cưng của bạn đã cảm thấy thoải mái trong xe và bạn Bạn đang lên kế hoạch cho chuyến đi đầu tiên của mình. Hãy đảm bảo rằng bạn có tất cả những vật dụng cần thiết cho nó hoặc điều này giúp giữ thú cưng của bạn được nhốt an toàn trong suốt chuyến đi và tạo bề mặt chắc chắn cho thú cưng của bạn đứng để nó cảm thấy ổn định trong suốt chuyến đi. Hãy chắc chắn rằng chiếc thùng lớn đủ để nó quay lại và nằm. Phần thưởng nếu bạn ở đâu đó qua đêm, chuồng sẽ cung cấp cho chó của bạn một không gian an toàn để ngủ, hãy đảm bảo trước khi đặt nó vào cũi trong xe và luôn sử dụng dây nịt cùng với dây an toàn cho chó và không bao giờ thắt dây an toàn vào cổ chó nếu nó trượt khỏi ghế khi bạn đang lái xe, dây an toàn có thể kéo vào cổ chó và chó có thể không thể đứng dậy để nới lỏng dây xích — dây xích thông thường của bạn và một dây dự phòng đề phòng trường hợp khăn lau trẻ em để làm sạch anh ta trong trường hợp xảy ra tai nạn hoặc du lịch liên bang và quốc tế cũng cần có tài liệu bổ sung như giấy chứng nhận sức khỏe. Nhu cầu sẽ khác nhau tùy thuộc vào điểm đến du lịch của bạn, vì vậy hãy tra cứu tất cả các yêu cầu thông qua điều quan trọng là phải kiểm tra thông tin này ngay khi bạn biết chuyến đi của mình Ngày nhận được tài liệu cần thiết có thể mất từ \\u200b\\u200b\\u200b\\u200bvài ngày đến vài tháng tùy thuộc vào nơi bạn đi du lịch. Cập nhật id. Hãy chắc chắn rằng con chó của bạn có thẻ tên trên cổ với thông tin liên hệ của bạn và kiểm tra kỹ xem nó có được gắn chắc chắn vào cổ không. chắc chắn rằng anh ấy không chỉ mà còn thông tin liên hệ liên quan đến nó được cập nhật. Chó cũng có nhiều khả năng bị lạc khi đi du lịch vì chúng ở những nơi xa lạ với nhiều điều phiền nhiễu mới nếu anh ấy bị lạc thì sẽ dễ dàng hơn nhiều cho ai đó liên hệ với bạn khi tất cả thông tin của bạn đều có trên thẻ tên và địa chỉ vi mạch chăm sóc phòng ngừa tùy thuộc vào nơi bạn đi du lịch, có thể có các khuyến nghị khác nhau về chăm sóc phòng ngừa cho các bệnh thú cưng của bạn không được phân bố đồng đều trên toàn thế giới, một số khu vực nhất định dễ mắc phải nhất định quá trình phát triển bệnh hãy trao đổi với bác sĩ thú y về nơi bạn đi du lịch để bạn có thể pha chế và dùng các loại thuốc phòng ngừa mà chó cần trước khi bạn lên đường. Hãy làm điều này càng sớm càng tốt vì một số loại vắc xin có thể mất vài tuần mới có tác dụng bảo vệ cho thú cưng của bạn. chó con bị bệnh vì một căn bệnh có thể phòng ngừa được khi đi du lịch, hãy nói chuyện với bác sĩ thú y về nơi bạn sẽ đi du lịch để bạn có thể đảm bảo rằng chó con của bạn có tất cả các loại vắc-xin và thuốc phòng ngừa cần thiết trước khi bạn lên đường trong chuyến đi. Bây giờ bạn đã làm mọi thứ chuẩn bị cho chuyến đi của bạn đây là cách đi du lịch cùng chú chó con của bạn một cách an toàngiữ cho chó con của bạn an toàn khi di chuyển cùng chó con trong ô tô. Nó phải được giữ trong cũi hoặc bằng dây đai an toàn dành cho chó, điều này giúp chó không bị mất ổn định và ngã khi rẽ và nó cũng giúp giữ an toàn cho chó trong trường hợp xảy ra tai nạn. Xe của bạn trước khi đi du lịch, điều quan trọng là phải đảm bảo rằng không có gì nguy hiểm mà nó có thể vướng vào, chẳng hạn như những đồ vật lỏng lẻo mà nó có thể nhai hoặc trong khi đi du lịch, bạn cũng không nên để chó thò đầu ra ngoài cửa sổ ô tô khi bạn lái xe, nó có thể gây hại cho mắt của nó để làm khô thứ gì đó mắc kẹt trong chúng hoặc bị trầy xước trên bề mặt nếu con chó con của bạn chịu được kính đeo cho chó, những thứ này có thể giúp nó an toàn hơn đồng thời gây nguy hiểm cho mắt, có nguy cơ nó tuột khỏi dây nịt và nhảy ra ngoài cửa sổ. Cửa sổ đóng khi bạn lái xe Tập thể dục trước khi đi du lịch Tập thể dục không chỉ khiến chó con kiệt sức về thể chất mà còn có thể tùy thuộc vào loại hình tập luyện. Chó con mệt mỏi có nhiều khả năng giữ bình tĩnh và ngủ trong suốt chuyến đi, điều này có thể giúp toàn bộ trải nghiệm du lịch suôn sẻ hơn cho cả hai bạn và chú chó của bạn thường xuyên dừng lại tần suất một chú chó con cần đi vệ sinh tùy thuộc vào độ tuổi của chúng và lượng nước mà chúng đã uống. Nói chung, chó con có thể nhịn bàng quang trong một khoảng thời gian bằng với tuổi của chúng tính theo tháng cộng thêm một Chó con một tháng tuổi có thể nhịn bàng quang trong khoảng ba giờ. Nên dừng lại để ngồi bô sau mỗi hai hoặc ba giờ khi đi cùng chó con, điều này cho phép chó đi vệ sinh duỗi chân và nghỉ uống nước để kiểm soát tình trạng say xe nhưng điều quan trọng là phải phân biệt xem họ thực sự bị say xe hay chỉ vì họ được đối xử khác biệt. Một số dấu hiệu phổ biến nhất của chứng say xe và lo lắng là khóc lóc và nếu điều này bắt đầu ngay sau khi lên xe thì có thể liên quan đến lo lắng nhưng nếu các triệu chứng bắt đầu Sau một thời gian lái xe, chú chó con của bạn có thể bị say xe. Chứng say xe thường gặp ở chó con và may mắn thay, chúng thường phát triển nhanh hơn. Trong khi đó, có một số điều chúng ta có thể làm để giúp điều trị và ngăn ngừa chứng say tàu xe, giữ cho xe luôn mát mẻ và thoải mái khi mở cửa cửa sổ không khí trong lành có thể giúp giảm bớt cơn buồn nôn cho chó con của bạn giống như việc mọi người tránh cho chó con ăn trong vòng hai hoặc ba giờ sau khi di chuyển, đi du lịch với cái bụng no có thể khiến nó buồn nôn hơn, đưa nó đi dạo trước khi đi du lịch để nó bớt lo lắng hơn về khả năng xảy ra tai nạn cho nó uống thuốc một số loại thuốc có thể giúp giảm buồn nôn khi lái xe, hãy trao đổi với bác sĩ thú y của bạn về việc thử các loại thuốc dưới đây và không bao giờ cho chó con uống thuốc mà không có hướng dẫn của bác sĩ thú y ® dramamine ® điều chỉnh nhiệt độ chó còn hơn cả con người và chó con đặc biệt nhạy cảm với sự thay đổi nhiệt độ, điều này là do cơ thể chúng không giỏi điều chỉnh nhiệt độ do ô tô có thể nóng lên nhanh như thế nào khi chúng chỉ ngồi dưới nắng. mùa đông nếu phải đợi một mình trong ô tô, ô tô không chỉ nóng hoặc lạnh khi bạn đỗ xe, nhiệt độ cũng có thể tăng hoặc giảm đáng kể khi lái xe để giúp chó cưng của bạn thoải mái trong mùa hè, mở cửa sổ một chút để có nhiều luồng không khí hơn Nếu bạn bật điều hòa, hãy chắc chắn rằng nó sẽ thổi vào chó con, phía sau xe thường ấm hơn nhiều so với ghế trước, bạn cũng có thể cân nhắc sử dụng rèm cửa sổ để giúp ngăn ánh nắng trực tiếp chiếu vào chú chó con của bạn. Điều này đặc biệt quan trọng nếu bạn nhốt chó vào chuồng. chó con trong thùng nhựa hoặc kim loại vì chúng có thể nóng lên nhanh chóng khi tiếp xúc trực tiếp với ánh nắng mặt trời. Chó dễ bị quá nóng trong ô tô hơn người và chó con đặc biệt nhạy cảm với sự thay đổi nhiệt độ vào mùa đông. chăn để giúp giữ ấm cho chó khi đi du lịch, hãy kiểm tra chó thường xuyên và nhớ rằng chỉ vì bạn cảm thấy thoải mái không có nghĩa là chó sẽ làm như vậy sau khi bạn đến khi đến một địa điểm mới, cho chó con của bạn làm quen với khu vực đó, đi dạo xung quanh chỉ cho chúng sân và nhà hoặc phòng khách sạn nơi bạn đang ở cho chó con của bạn biết vị trí mới của bát đựng nước và thức ăn, đặt đồ chơi cho nó để nó biết nó có thứ gì đó để chơi với chiếc thùng quen thuộc để ngủ cũng có thể giúp nó cảm thấy thoải mái hơn nhiều trong khi đi du lịch, hãy kiểm tra địa điểm mới xem có bất kỳ mối nguy hiểm nào đối với con chó con của bạn không nếu có khu vực có hàng rào, dắt nó đi vòng quanh chu vi sân bằng dây xích và đảm bảo không có khoảng cách nàohoặc lỗ trên hàng rào nơi anh ta có thể trốn thoát, tốt nhất bạn nên xích anh ta cho đến khi anh ta quen với môi trường mới trong khi điều này có vẻ giống như một chuyến đi an toàn và suôn sẻ thường có nghĩa là một chuyến đi cực kỳ thú vị, du lịch là một trải nghiệm tuyệt vời đối với động vật và mang đến cho chúng nhiều sự kích thích tích cực, củng cố hơn nữa mối quan hệ của bạn với chúng. hình ảnh nổi bật gettyeva blanco'"
      ]
     },
     "execution_count": 106,
     "metadata": {},
     "output_type": "execute_result"
    }
   ],
   "source": [
    "text = \"bringing home a new puppy is an exciting time he’s a new member of your family and you want him to be included in everything you do—especially traveling fortunately the puppy stage is the best time to get a dog comfortable with all aspects of traveling it’s typically easier to desensitize a puppy to new things that older dogs may already fear such as car engines plane noises city sounds or trucks while you may want to start taking your puppy on trips right away it’s important to plan your travel while keeping your pet center of mind here’s what to know about traveling with a puppy so it goes as smoothly as possible—both for you and your new pup before you leave before you even leave for a trip with your puppy there are a few important things you should do to prepare the level of preparation will depend greatly on how long the trip is and where you’re heading introduce your puppy to the car cars can be scary for dogs when they’re not used to them so it’s important to make your puppy feel as comfortable as possible this begins by simply introducing your pup to the car well before he’s going for a ride let him walk around and sniff the car allow him time to get comfortable in his area of the car and get settled in once he feels comfortable in his spot in the car turn on the engine as soon as he seems comfortable with the sound this may take some time take him for his first ride this should be a short ride just to the end of the street and back for riding quietly as he gets more and more comfortable with car rides start to gradually increase the distance he travels in the car it’s important for your puppy to feel stable in the car the seats can often make puppies and dogs feel insecure because they’re soft which can make them feel off balance dogs often feel more secure on the floor or in the trunk of an suv because the floor is solid and they have a more stable grip do not put your puppy in a closedin trunk such as in a sedan gather your gear once your pup is comfortable in the car and you’re planning your first trip make sure you have all the items you need for him or this helps keep your pet safely confined during travel and provides a firm surface for your pet to stand on so he feels stable during travel be sure the crate is large enough for him to turn around and lie down bonus if you’re staying somewhere overnight the crate provides your dog a safe space to sleep be sure to prior to putting him in a crate in the car and always use a harness with the dog seatbelts and never attach a seatbelt to your dog’s collar if he slips off the seat while you’re driving it can pull on his neck and he may not be able to get back up to loosen it —your regular leash and a spare just in case baby wipes to clean him in case of an accident or interstate and international travel also require additional documentation such as a health certificate the needs vary depending on your travel destination so look up all requirements through the it’s important to check this information as soon as you know your travel dates getting the required documentation can take anywhere from a few days to months depending on where you’re traveling have uptodate id be sure your dog has a name tag on his collar with your contact information and doublecheck that it’s securely attached to his collar also make sure he not only but also that the contact information associated with it is up to date dogs are also more likely to get lost when traveling because they’re in unfamiliar places with lots of new distractions if he does become lost it’s much easier for someone to contact you when all your info is current on his name tag and microchip address preventative care depending on where you’re traveling there may be different recommendations for preventative care for your pet diseases are not evenly distributed throughout the world certain areas are more prone to certain disease processes talk to your vet about where you’re traveling so you can make and preventative medications he needs before you hit the road do this sooner than later as some vaccines can take a few weeks to provide protection for your pet there’s nothing worse than your puppy getting sick with a preventable disease while traveling talk to your vet about where you’re traveling so you can make sure your pup has all vaccines and preventative medications he needs before you hit the road during your trip now that you’ve done everything to prepare for your trip here’s how to travel with your puppy safely keep your puppy safe when traveling with a puppy in the car he should be restrained in a crate or with a dog harness seatbelt this helps prevent him from becoming unstable and falling when turning and it also helps keep him safe in the event of an accident puppyproof your car before traveling it’s important to make sure there’s nothing dangerous he can get into such as loose objects he could potentially chew or while traveling you also shouldn’t let your dog stick their head out the car window as you drive it can cause his eyes to dry out get something stuck in them or become scratched on the surface if your puppy tolerates dog goggles these can make him safer along with danger to his eyes there’s the risk he slips out of his harness and jumps out the window it’s best to keep the window closed as you drive exercise before traveling exercise not only physically exhausts puppies but it can also depending on the type of exercise tired puppies are much more likely to remain calm and sleep throughout the trip this can make the whole travel experience much smoother for both you and your pup make frequent stops how frequently a puppy needs to go to the bathroom depends on how old he is and how much water he’s consumed in general puppies can hold their bladder for a length of time equal to their age in months plus one so a monthold puppy can hold his bladder for about three hours it’s recommended to stop for potty breaks every two or three hours when traveling with a puppy this allows him to go to the bathroom stretch his legs and have a water break manage car sickness but it’s important to distinguish whether they’re truly car sick or if they’re just as these are treated differently some of the most common signs of car sickness and anxiety are whining crying and if this starts soon after getting into the car it’s likely anxietyrelated but if symptoms begin a little while into the car ride your pup is likely car sick car sickness is common in puppies and fortunately they often outgrow it in the meantime there are several things we can do to help treat and prevent motion sickness keep the car cool and comfortable open the windows fresh air can help alleviate nausea for your pup just as it does for people avoid feeding your puppy within two or three hours of travel traveling on a full stomach can make him more nauseous take him for a walk prior to traveling so he feels less anxious about potentially having an accident give him medication several medicines can help with nausea in the car talk to your veterinarian about trying the medications below and never give your puppy medicine without a vet’s guidance ® dramamine ® regulate the temperature dogs are much more than people and puppies are especially sensitive to temperature changes this is because their bodies aren’t as good at regulating their temperature yet given how quickly cars can heat up when they’re just sitting in the sun dogs especially puppies should never be left in a car alone similarly in winter if left waiting alone in a car cars don’t only get hot or cold when you’re parked the temperatures can also rise or drop drastically while driving to help keep your pup comfortable during the summer open the windows a little to allow more airflow if you keep your air conditioning on be sure it flows to him the back of the car is often much warmer than the front seat you can also consider window shades to help prevent direct sunlight from shining on your puppy these are especially important if you crate your puppy in a plastic or metal crate as these can heat up rapidly when exposed to direct sunlight dogs are much more prone to overheating in cars than people and puppies are especially sensitive to temperature changes in winter keep your heat on and consider providing your puppy with a blanket to help keep him warm during travel check on him frequently and remember that just because you feel comfortable does not mean he does after you arrive when arriving at a new destination acclimate your puppy to the area take a walk around showing him the yard and the home or hotel room where you’re staying show your puppy the new location of his water and food bowls lay his toys out for him so he knows he has something to play with a familiar crate to sleep in can also help him feel much more comfortable while traveling check the new place for any dangers to your puppy too if there’s a fenced area walk him around the perimeter of the yard on a leash and make sure there are no breaks or holes in the fence where he could escape it’s best to keep him on a leash until he gets used to his new environment while this may seem like a lot a safe and smooth trip often means an incredibly fun trip traveling is an amazing experience for animals and provides them lots of positive stimulation further strengthening your bond with them featured image gettyeva blanco\"\n",
    "a = translate_long_text(text)\n",
    "a"
   ]
  },
  {
   "cell_type": "code",
   "execution_count": 107,
   "id": "d7d40944-2599-4d1b-851a-e80028be59cc",
   "metadata": {},
   "outputs": [
    {
     "ename": "AttributeError",
     "evalue": "'NoneType' object has no attribute 'group'",
     "output_type": "error",
     "traceback": [
      "\u001b[0;31m---------------------------------------------------------------------------\u001b[0m",
      "\u001b[0;31mAttributeError\u001b[0m                            Traceback (most recent call last)",
      "Cell \u001b[0;32mIn[107], line 3\u001b[0m\n\u001b[1;32m      1\u001b[0m \u001b[38;5;28;01mfrom\u001b[39;00m \u001b[38;5;21;01mgoogletrans\u001b[39;00m \u001b[38;5;28;01mimport\u001b[39;00m Translator\n\u001b[1;32m      2\u001b[0m translator \u001b[38;5;241m=\u001b[39m Translator()\n\u001b[0;32m----> 3\u001b[0m \u001b[43mtranslator\u001b[49m\u001b[38;5;241;43m.\u001b[39;49m\u001b[43mtranslate\u001b[49m\u001b[43m(\u001b[49m\u001b[38;5;124;43m\"\u001b[39;49m\u001b[38;5;124;43mDer Himmel ist blau und ich mag Bananen\u001b[39;49m\u001b[38;5;124;43m\"\u001b[39;49m\u001b[43m,\u001b[49m\u001b[43m \u001b[49m\u001b[43mdest\u001b[49m\u001b[38;5;241;43m=\u001b[39;49m\u001b[38;5;124;43m'\u001b[39;49m\u001b[38;5;124;43men\u001b[39;49m\u001b[38;5;124;43m'\u001b[39;49m\u001b[43m)\u001b[49m\n",
      "File \u001b[0;32m/usr/local/lib/python3.9/site-packages/googletrans/client.py:182\u001b[0m, in \u001b[0;36mTranslator.translate\u001b[0;34m(self, text, dest, src, **kwargs)\u001b[0m\n\u001b[1;32m    179\u001b[0m     \u001b[38;5;28;01mreturn\u001b[39;00m result\n\u001b[1;32m    181\u001b[0m origin \u001b[38;5;241m=\u001b[39m text\n\u001b[0;32m--> 182\u001b[0m data \u001b[38;5;241m=\u001b[39m \u001b[38;5;28;43mself\u001b[39;49m\u001b[38;5;241;43m.\u001b[39;49m\u001b[43m_translate\u001b[49m\u001b[43m(\u001b[49m\u001b[43mtext\u001b[49m\u001b[43m,\u001b[49m\u001b[43m \u001b[49m\u001b[43mdest\u001b[49m\u001b[43m,\u001b[49m\u001b[43m \u001b[49m\u001b[43msrc\u001b[49m\u001b[43m,\u001b[49m\u001b[43m \u001b[49m\u001b[43mkwargs\u001b[49m\u001b[43m)\u001b[49m\n\u001b[1;32m    184\u001b[0m \u001b[38;5;66;03m# this code will be updated when the format is changed.\u001b[39;00m\n\u001b[1;32m    185\u001b[0m translated \u001b[38;5;241m=\u001b[39m \u001b[38;5;124m'\u001b[39m\u001b[38;5;124m'\u001b[39m\u001b[38;5;241m.\u001b[39mjoin([d[\u001b[38;5;241m0\u001b[39m] \u001b[38;5;28;01mif\u001b[39;00m d[\u001b[38;5;241m0\u001b[39m] \u001b[38;5;28;01melse\u001b[39;00m \u001b[38;5;124m'\u001b[39m\u001b[38;5;124m'\u001b[39m \u001b[38;5;28;01mfor\u001b[39;00m d \u001b[38;5;129;01min\u001b[39;00m data[\u001b[38;5;241m0\u001b[39m]])\n",
      "File \u001b[0;32m/usr/local/lib/python3.9/site-packages/googletrans/client.py:78\u001b[0m, in \u001b[0;36mTranslator._translate\u001b[0;34m(self, text, dest, src, override)\u001b[0m\n\u001b[1;32m     77\u001b[0m \u001b[38;5;28;01mdef\u001b[39;00m \u001b[38;5;21m_translate\u001b[39m(\u001b[38;5;28mself\u001b[39m, text, dest, src, override):\n\u001b[0;32m---> 78\u001b[0m     token \u001b[38;5;241m=\u001b[39m \u001b[38;5;28;43mself\u001b[39;49m\u001b[38;5;241;43m.\u001b[39;49m\u001b[43mtoken_acquirer\u001b[49m\u001b[38;5;241;43m.\u001b[39;49m\u001b[43mdo\u001b[49m\u001b[43m(\u001b[49m\u001b[43mtext\u001b[49m\u001b[43m)\u001b[49m\n\u001b[1;32m     79\u001b[0m     params \u001b[38;5;241m=\u001b[39m utils\u001b[38;5;241m.\u001b[39mbuild_params(query\u001b[38;5;241m=\u001b[39mtext, src\u001b[38;5;241m=\u001b[39msrc, dest\u001b[38;5;241m=\u001b[39mdest,\n\u001b[1;32m     80\u001b[0m                                 token\u001b[38;5;241m=\u001b[39mtoken, override\u001b[38;5;241m=\u001b[39moverride)\n\u001b[1;32m     82\u001b[0m     url \u001b[38;5;241m=\u001b[39m urls\u001b[38;5;241m.\u001b[39mTRANSLATE\u001b[38;5;241m.\u001b[39mformat(host\u001b[38;5;241m=\u001b[39m\u001b[38;5;28mself\u001b[39m\u001b[38;5;241m.\u001b[39m_pick_service_url())\n",
      "File \u001b[0;32m/usr/local/lib/python3.9/site-packages/googletrans/gtoken.py:194\u001b[0m, in \u001b[0;36mTokenAcquirer.do\u001b[0;34m(self, text)\u001b[0m\n\u001b[1;32m    193\u001b[0m \u001b[38;5;28;01mdef\u001b[39;00m \u001b[38;5;21mdo\u001b[39m(\u001b[38;5;28mself\u001b[39m, text):\n\u001b[0;32m--> 194\u001b[0m     \u001b[38;5;28;43mself\u001b[39;49m\u001b[38;5;241;43m.\u001b[39;49m\u001b[43m_update\u001b[49m\u001b[43m(\u001b[49m\u001b[43m)\u001b[49m\n\u001b[1;32m    195\u001b[0m     tk \u001b[38;5;241m=\u001b[39m \u001b[38;5;28mself\u001b[39m\u001b[38;5;241m.\u001b[39macquire(text)\n\u001b[1;32m    196\u001b[0m     \u001b[38;5;28;01mreturn\u001b[39;00m tk\n",
      "File \u001b[0;32m/usr/local/lib/python3.9/site-packages/googletrans/gtoken.py:62\u001b[0m, in \u001b[0;36mTokenAcquirer._update\u001b[0;34m(self)\u001b[0m\n\u001b[1;32m     59\u001b[0m     \u001b[38;5;28;01mreturn\u001b[39;00m\n\u001b[1;32m     61\u001b[0m \u001b[38;5;66;03m# this will be the same as python code after stripping out a reserved word 'var'\u001b[39;00m\n\u001b[0;32m---> 62\u001b[0m code \u001b[38;5;241m=\u001b[39m \u001b[38;5;28;43mself\u001b[39;49m\u001b[38;5;241;43m.\u001b[39;49m\u001b[43mRE_TKK\u001b[49m\u001b[38;5;241;43m.\u001b[39;49m\u001b[43msearch\u001b[49m\u001b[43m(\u001b[49m\u001b[43mr\u001b[49m\u001b[38;5;241;43m.\u001b[39;49m\u001b[43mtext\u001b[49m\u001b[43m)\u001b[49m\u001b[38;5;241;43m.\u001b[39;49m\u001b[43mgroup\u001b[49m(\u001b[38;5;241m1\u001b[39m)\u001b[38;5;241m.\u001b[39mreplace(\u001b[38;5;124m'\u001b[39m\u001b[38;5;124mvar \u001b[39m\u001b[38;5;124m'\u001b[39m, \u001b[38;5;124m'\u001b[39m\u001b[38;5;124m'\u001b[39m)\n\u001b[1;32m     63\u001b[0m \u001b[38;5;66;03m# unescape special ascii characters such like a \\x3d(=)\u001b[39;00m\n\u001b[1;32m     64\u001b[0m code \u001b[38;5;241m=\u001b[39m code\u001b[38;5;241m.\u001b[39mencode()\u001b[38;5;241m.\u001b[39mdecode(\u001b[38;5;124m'\u001b[39m\u001b[38;5;124municode-escape\u001b[39m\u001b[38;5;124m'\u001b[39m)\n",
      "\u001b[0;31mAttributeError\u001b[0m: 'NoneType' object has no attribute 'group'"
     ]
    }
   ],
   "source": [
    "from googletrans import Translator\n",
    "translator = Translator()\n",
    "translator.translate(\"Der Himmel ist blau und ich mag Bananen\", dest='en')"
   ]
  },
  {
   "cell_type": "code",
   "execution_count": null,
   "id": "2c2253ee-28d9-4103-a262-e871e23aa7f9",
   "metadata": {},
   "outputs": [],
   "source": []
  },
  {
   "cell_type": "code",
   "execution_count": null,
   "id": "bf9be7c0-79a5-4cc6-851c-a67a61234360",
   "metadata": {},
   "outputs": [],
   "source": [
    "from google_trans_new import google_translator  \n",
    "  \n",
    "translator = google_translator()  \n",
    "translate_text = translator.translate('สวัสดีจีน',lang_tgt='en')  \n",
    "print(translate_text)"
   ]
  }
 ],
 "metadata": {
  "kernelspec": {
   "display_name": "Python 3 (ipykernel)",
   "language": "python",
   "name": "python3"
  },
  "language_info": {
   "codemirror_mode": {
    "name": "ipython",
    "version": 3
   },
   "file_extension": ".py",
   "mimetype": "text/x-python",
   "name": "python",
   "nbconvert_exporter": "python",
   "pygments_lexer": "ipython3",
   "version": "3.9.18"
  }
 },
 "nbformat": 4,
 "nbformat_minor": 5
}
