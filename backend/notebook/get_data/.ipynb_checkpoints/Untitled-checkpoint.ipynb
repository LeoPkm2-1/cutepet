{
 "cells": [
  {
   "cell_type": "code",
   "execution_count": 3,
   "id": "c4fdeac8-75c8-4b2a-adb0-c0f24faceb2b",
   "metadata": {},
   "outputs": [],
   "source": [
    "import mysql.connector\n",
    "\n",
    "mydb = mysql.connector.connect(\n",
    "  host=\"localhost\",\n",
    "  user=\"admin\",\n",
    "  password=\"admin\",\n",
    "  database=\"cutepet_sql\"\n",
    ")\n",
    "\n",
    "mycursor = mydb.cursor()"
   ]
  },
  {
   "cell_type": "code",
   "execution_count": 7,
   "id": "5017ef7d-d47f-4bbd-917a-03bc74eff996",
   "metadata": {},
   "outputs": [],
   "source": [
    "from faker import Faker"
   ]
  },
  {
   "cell_type": "code",
   "execution_count": 75,
   "id": "ee324d6a-994c-4359-b321-f891b2941821",
   "metadata": {},
   "outputs": [],
   "source": [
    "fake =Faker()"
   ]
  },
  {
   "cell_type": "code",
   "execution_count": 8,
   "id": "06e1d149-883f-46a9-92a7-161b218d9644",
   "metadata": {},
   "outputs": [],
   "source": [
    "# For student id  \n",
    "from random import randint "
   ]
  },
  {
   "cell_type": "code",
   "execution_count": 105,
   "id": "bbe29b13-1ace-4f25-aa0f-1499df6e2d85",
   "metadata": {},
   "outputs": [],
   "source": [
    "sql_stmt = \"insert into NguoiDung (ma_nguoi_dung, ten, ngay_sinh, tai_khoan, email, so_dien_thoai,is_admin, gioi_tinh) values (%s, %s, %s, %s, %s, %s,%s, %s)\"\n",
    "\n",
    "for i in range(24,101):\n",
    "    ma_nguoi_dung = i\n",
    "    gioi_tinh = randint(0,1)\n",
    "    ten = fake.name_male() if gioi_tinh == 1 else fake.name_female()\n",
    "    ngay_sinh = fake.date_of_birth()\n",
    "    tai_khoan = ten.replace(\" \",\"\").lower()\n",
    "    email = tai_khoan+'@gnet.com'\n",
    "    so_dien_thoai = '11111'\n",
    "    is_admin = 0\n",
    "    data = (ma_nguoi_dung, ten, ngay_sinh,tai_khoan,email, so_dien_thoai, is_admin,gioi_tinh )\n",
    "    mycursor.execute(sql_stmt, data)\n",
    "    mydb.commit()\n",
    "\n",
    "    \n",
    "        \n",
    "    "
   ]
  },
  {
   "cell_type": "markdown",
   "id": "91168f8d-d692-46be-91f2-f236c2485fc6",
   "metadata": {},
   "source": [
    "## delete data"
   ]
  },
  {
   "cell_type": "code",
   "execution_count": 104,
   "id": "69ab1496-4834-47a8-9068-2bb5af8e3acf",
   "metadata": {},
   "outputs": [],
   "source": [
    "sql = 'delete from NguoiDung where ma_nguoi_dung = %s';\n",
    "for i in range(24,101):\n",
    "    mycursor.execute(sql, (i,))\n",
    "    mydb.commit()"
   ]
  }
 ],
 "metadata": {
  "kernelspec": {
   "display_name": "Python 3 (ipykernel)",
   "language": "python",
   "name": "python3"
  },
  "language_info": {
   "codemirror_mode": {
    "name": "ipython",
    "version": 3
   },
   "file_extension": ".py",
   "mimetype": "text/x-python",
   "name": "python",
   "nbconvert_exporter": "python",
   "pygments_lexer": "ipython3",
   "version": "3.12.0"
  }
 },
 "nbformat": 4,
 "nbformat_minor": 5
}
