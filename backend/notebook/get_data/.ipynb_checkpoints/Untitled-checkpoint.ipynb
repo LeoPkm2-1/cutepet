{
 "cells": [
  {
   "cell_type": "markdown",
   "id": "ebcb757c-4023-4dbc-9e6d-1946066cb419",
   "metadata": {},
   "source": [
    "# 0. import library"
   ]
  },
  {
   "cell_type": "code",
   "execution_count": 10,
   "id": "06e1d149-883f-46a9-92a7-161b218d9644",
   "metadata": {},
   "outputs": [],
   "source": [
    "# For student id  \n",
    "from random import randint ,choice,choices\n",
    "import datetime "
   ]
  },
  {
   "cell_type": "code",
   "execution_count": 2,
   "id": "5017ef7d-d47f-4bbd-917a-03bc74eff996",
   "metadata": {},
   "outputs": [],
   "source": [
    "from faker import Faker"
   ]
  },
  {
   "cell_type": "code",
   "execution_count": 3,
   "id": "ee324d6a-994c-4359-b321-f891b2941821",
   "metadata": {},
   "outputs": [],
   "source": [
    "fake =Faker()"
   ]
  },
  {
   "cell_type": "code",
   "execution_count": 4,
   "id": "c4fdeac8-75c8-4b2a-adb0-c0f24faceb2b",
   "metadata": {},
   "outputs": [],
   "source": [
    "import mysql.connector\n",
    "\n",
    "mydb = mysql.connector.connect(\n",
    "  host=\"localhost\",\n",
    "  user=\"admin\",\n",
    "  password=\"admin\",\n",
    "  database=\"cutepet_sql\"\n",
    ")\n",
    "\n",
    "mycursor = mydb.cursor()"
   ]
  },
  {
   "cell_type": "code",
   "execution_count": 5,
   "id": "93af37aa-e01e-45f3-ad54-c1226a2f0acd",
   "metadata": {},
   "outputs": [],
   "source": [
    "import pymongo\n",
    "\n",
    "myclient = pymongo.MongoClient(\"mongodb://localhost:27017/\")\n",
    "nonsqlDB = myclient['cutepet_nonsql']\n",
    "BaiVietCOL = nonsqlDB['BaiViet']"
   ]
  },
  {
   "cell_type": "markdown",
   "id": "2ea31c2a-901f-4c15-a1ee-09c2cdb1998c",
   "metadata": {},
   "source": [
    "## 1. insert user"
   ]
  },
  {
   "cell_type": "markdown",
   "id": "153d3d29-7056-400d-bd3f-6f4566845e39",
   "metadata": {
    "jp-MarkdownHeadingCollapsed": true
   },
   "source": [
    "#### 1.1. delete old generated user"
   ]
  },
  {
   "cell_type": "code",
   "execution_count": 6,
   "id": "69ab1496-4834-47a8-9068-2bb5af8e3acf",
   "metadata": {},
   "outputs": [],
   "source": [
    "sql = 'delete from NguoiDung where ma_nguoi_dung = %s';\n",
    "for i in range(24,501):\n",
    "    mycursor.execute(sql, (i,))\n",
    "    mydb.commit()"
   ]
  },
  {
   "cell_type": "markdown",
   "id": "427153fa-71b3-4472-9d5e-3dd9bc71216f",
   "metadata": {},
   "source": [
    "#### 1.2. insert new generated user"
   ]
  },
  {
   "cell_type": "code",
   "execution_count": 7,
   "id": "bbe29b13-1ace-4f25-aa0f-1499df6e2d85",
   "metadata": {},
   "outputs": [],
   "source": [
    "sql_stmt = \"insert into NguoiDung (ma_nguoi_dung, ten, ngay_sinh, tai_khoan, email, so_dien_thoai,is_admin, gioi_tinh) values (%s, %s, %s, %s, %s, %s,%s, %s)\"\n",
    "\n",
    "for i in range(24,501):\n",
    "    ma_nguoi_dung = i\n",
    "    gioi_tinh = randint(0,1)\n",
    "    ten = fake.name_male() if gioi_tinh == 1 else fake.name_female()\n",
    "    ngay_sinh = fake.date_of_birth()\n",
    "    tai_khoan = ten.replace(\" \",\"\").lower()\n",
    "    email = tai_khoan+'@gnet.com'\n",
    "    so_dien_thoai = '11111'\n",
    "    is_admin = 0\n",
    "    data = (ma_nguoi_dung, ten, ngay_sinh,tai_khoan,email, so_dien_thoai, is_admin,gioi_tinh )\n",
    "    mycursor.execute(sql_stmt, data)\n",
    "    mydb.commit()\n",
    "\n",
    "    \n",
    "        \n",
    "    "
   ]
  },
  {
   "cell_type": "markdown",
   "id": "33f9d506-7ffe-4bb3-a2b7-1f1f65bed10b",
   "metadata": {},
   "source": [
    "## 2 insert pet for people"
   ]
  },
  {
   "cell_type": "code",
   "execution_count": 35,
   "id": "a93ebc4e-526c-4d6d-b221-bd45a4082a92",
   "metadata": {},
   "outputs": [
    {
     "data": {
      "text/plain": [
       "73"
      ]
     },
     "execution_count": 35,
     "metadata": {},
     "output_type": "execute_result"
    }
   ],
   "source": [
    "danh_sach_giong_full =  [\n",
    "  100, 101, 102, 103, 104, 105, 106, 107, 108, 109, 110, 111, 112, 113, 114,\n",
    "  115, 116, 117, 118, 119, 120, 200, 201, 202, 203, 204, 205, 206, 207, 208,\n",
    "  209, 210, 211, 212, 213, 214, 300, 301, 302, 303, 304, 305, 306, 307, 308,\n",
    "  309, 310, 311, 312, 313, 314, 315, 316, 317, 318, 319, 400, 401, 402, 403,\n",
    "  404, 405, 406, 407, 408, 409, 410, 411, 412, 413, 414, 415, 416,\n",
    "];\n",
    "\n",
    "danh_sach_giong_cho_meo = [\n",
    "    100, 101, 102, 103, 104, 105, 106, 107, 108, 109, 110, 111, 112, 113, 114,\n",
    "    115, 116, 117, 118, 119, 120, 200, 201, 202, 203, 204, 205, 206, 207, 208,\n",
    "    209, 210, 211, 212, 213, 214,\n",
    "]\n",
    "\n",
    "danh_sach_giong_cho_meo_chim = [\n",
    "    100, 101, 102, 103, 104, 105, 106, 107, 108, 109, 110, 111, 112, 113, 114,\n",
    "    115, 116, 117, 118, 119, 120, 200, 201, 202, 203, 204, 205, 206, 207, 208,\n",
    "    209, 210, 211, 212, 213, 214, 400, 401, 402, 403,\n",
    "    404, 405, 406, 407, 408, 409, 410, 411, 412, 413, 414, 415, 416,\n",
    "]\n",
    "\n",
    "danh_sach_giong_cho_meo_ca = [\n",
    "    100, 101, 102, 103, 104, 105, 106, 107, 108, 109, 110, 111, 112, 113, 114,\n",
    "    115, 116, 117, 118, 119, 120, 200, 201, 202, 203, 204, 205, 206, 207, 208,\n",
    "    209, 210, 211, 212, 213, 214, 300, 301, 302, 303, 304, 305, 306, 307, 308,\n",
    "    309, 310, 311, 312, 313, 314, 315, 316, 317, 318, 319,\n",
    "]\n",
    "\n",
    "weight_choices =[      \n",
    "        50 , 50 , 50 , 50 , 50 , 50 , 50 , 50 , 50 , 50 , 50 , 50 , 50 , 50 , 50 , 50 , 50 , 50 ,\n",
    "        50 , 50 , 50 , 50 , 50 , 50 , 50 , 50 , 50 , 50 , 50 , 50 , 50 , 50 , 50 , 50 , 50 , 50 , 20 , 20 , 20 , 20 , 20 , 20 ,\n",
    "        20 , 20 , 20 , 20 , 20 , 20 , 20 , 20 , 20 , 20 , 20 , 20 , 20 , 20 , 20 , 20 , 20 , 20 , 20 , 20 , 20 , 20 , 20 ,\n",
    "        20 , 20 , 20 , 20 , 20 , 20 , 20 , 20 , ]\n",
    "\n",
    "a = choices(danh_sach_giong,weights=weight_choices,k=10)\n",
    "len(danh_sach_giong_full)\n",
    "\n",
    "# a\n",
    "# print(len(danh_sach_giong_cho_meo_chim))"
   ]
  },
  {
   "cell_type": "code",
   "execution_count": 61,
   "id": "2f5698f1-3523-462d-b247-160df43f20ed",
   "metadata": {},
   "outputs": [
    {
     "data": {
      "text/plain": [
       "datetime.date(2023, 6, 27)"
      ]
     },
     "execution_count": 61,
     "metadata": {},
     "output_type": "execute_result"
    }
   ],
   "source": [
    "# insert pet for users that have from 1 to 50:\n",
    "sql_stmt = \"\"\"\n",
    "    insert into ThuCung ( ma_thu_cung, ten_thu_cung ,ngay_sinh ,gioi_tinh ,ghi_chu ,ma_giong ,ma_nguoi_chu ) \n",
    "        values ( %s, %s,%s,%s,%s,%s,%s )\n",
    "\"\"\"\n",
    "for user_id in range(1,51):\n",
    "    ma_thu_cung_base = user_id*1000\n",
    "    num_of_pet = randint(4,10)\n",
    "    list_giong = choices(danh_sach_giong_full,weights=weight_choices,k=num_of_pet)\n",
    "    # print(list_giong)\n",
    "    for i in range(1,num_of_pet+1):\n",
    "        ma_thu_cung = ma_thu_cung_base +i\n",
    "        gioi_tinh = randint(0,1)\n",
    "        ten_thu_cung = fake.name_male() if gioi_tinh == 1 else fake.name_female()\n",
    "        ngay_sinh = fake.date_this_decade(before_today=True)\n",
    "        ngay_sinh\n",
    "        # print(list_giong[i-1])\n",
    "note_content = fake.text()\n"
   ]
  },
  {
   "cell_type": "markdown",
   "id": "35924d5e-3cb6-4648-a990-a033261536d2",
   "metadata": {
    "jp-MarkdownHeadingCollapsed": true
   },
   "source": [
    "## 2. insert Friend ship"
   ]
  },
  {
   "cell_type": "markdown",
   "id": "6051773d-704f-4dd9-b796-75bbc112bef7",
   "metadata": {},
   "source": [
    "#### 2.1. delete all friend ship"
   ]
  },
  {
   "cell_type": "code",
   "execution_count": 114,
   "id": "5458f8b8-8f20-4757-9b8d-4850b50d9049",
   "metadata": {},
   "outputs": [
    {
     "data": {
      "text/plain": [
       "datetime.datetime(1979, 2, 8, 18, 37, 11, 278056)"
      ]
     },
     "execution_count": 114,
     "metadata": {},
     "output_type": "execute_result"
    }
   ],
   "source": [
    "fake.date_time()"
   ]
  },
  {
   "cell_type": "code",
   "execution_count": 6,
   "id": "e83c4153-5df8-49b6-9380-29835c9e21ed",
   "metadata": {},
   "outputs": [],
   "source": [
    "sql_stmt = 'delete from LaBanBe'\n",
    "mycursor.execute(sql_stmt)\n",
    "mydb.commit();"
   ]
  },
  {
   "cell_type": "code",
   "execution_count": 130,
   "id": "88ceff2a-fb6d-4385-afb1-5d8839c85176",
   "metadata": {},
   "outputs": [],
   "source": [
    "sql_stmt = 'insert into LaBanBe (ma_nguoi_dung_1,ma_nguoi_dung_2,ngay_bat_dau) values(%s,%s,%s)'\n",
    "\n",
    "for i in range(1,31):\n",
    "    for j in range(1,31):\n",
    "        if(i!=j):\n",
    "            ngay_bat_dau = fake.date_time_this_decade()\n",
    "            mycursor.execute(sql_stmt,(i,j,ngay_bat_dau))\n",
    "            # mycursor.execute(sql_stmt,(j,i))\n",
    "            mydb.commit();\n",
    "        \n",
    "        "
   ]
  },
  {
   "cell_type": "markdown",
   "id": "2b671cdd-8144-4727-b95e-5baaf76eebff",
   "metadata": {},
   "source": [
    "## insert request add friend"
   ]
  },
  {
   "cell_type": "markdown",
   "id": "7b3c32f5-176a-41a3-bfe2-b8111da727c5",
   "metadata": {
    "jp-MarkdownHeadingCollapsed": true
   },
   "source": [
    "## 3. insert status post"
   ]
  },
  {
   "cell_type": "code",
   "execution_count": 11,
   "id": "dc59ae67-b427-4a73-a209-65af9b9f62ae",
   "metadata": {},
   "outputs": [
    {
     "name": "stdout",
     "output_type": "stream",
     "text": [
      "{'a': 1}\n"
     ]
    }
   ],
   "source": [
    "def statusPostStructure (text,img_url='',taggedUsers=[],createAt=datetime.datetime.now() ,owner_id=1):\n",
    "    return {\n",
    "        'text':text,\n",
    "        'postType':'STATUS',\n",
    "        'visibility':'PUBLIC',\n",
    "        'media':{\n",
    "            'type':'images',\n",
    "            'data':[img_url]\n",
    "        },\n",
    "        'taggedUsers':taggedUsers,\n",
    "        'createAt':createAt,\n",
    "        'numOfLike':0,\n",
    "        'numOfComment':0,\n",
    "        'modifiedAt':null,\n",
    "        'owner_id':owner_id,\n",
    "    }\n",
    "print({'a':1})"
   ]
  },
  {
   "cell_type": "code",
   "execution_count": 6,
   "id": "1fbe04d1-8660-4903-8163-2226da85f095",
   "metadata": {},
   "outputs": [
    {
     "name": "stdout",
     "output_type": "stream",
     "text": [
      "{'_id': ObjectId('65555eee151a2e67690ca296'), 'title': 'cách cho mèo  uống sữa đúng cách', 'postType': 'ARTICLE', 'visibility': 'PUBLIC', 'main_image': 'https://imgt.taimienphi.vn/cf/Images/tt/2023/1/10/hinh-nen-meo-cute-ngo-nghinh-dang-yeu-nhin-la-cung-4.jpg', 'intro': 'xin chào .....', 'content': 'các thú cưng con.....', 'categories': ['MÈO', 'MÈO CON', 'CHẾ ĐỘ ĂN UỐNG'], 'createAt': datetime.datetime(2023, 11, 16, 0, 14, 38, 939000), 'numOfUpVote': 0, 'numOfDownVote': 0, 'numOfComment': 0, 'modifiedAt': datetime.datetime(2023, 11, 16, 2, 23, 10, 113000), 'owner_id': 2}\n",
      "{'_id': ObjectId('65502576af8c97b77354ef67'), 'title': 'wwwwwwwwwww', 'postType': 'ARTICLE', 'visibility': 'PUBLIC', 'main_image': 'https://png.pngtree.com/background/20230607/original/pngtree-the-baby-kittens-look-at-the-camera-picture-image_2903605.jpg', 'intro': 'cfdfdfdfdfdfdf', 'content': '<p>cttttttttt</p><p>ggttttttt</p><p>&nbsp;</p><p>&nbsp;</p><p>&nbsp;</p><p>&nbsp;</p>', 'categories': ['Ăn uống', 'Đi dạo'], 'createAt': datetime.datetime(2023, 11, 12, 1, 8, 6, 57000), 'numOfUpVote': 0, 'numOfDownVote': 0, 'numOfComment': 0, 'modifiedAt': None, 'owner_id': 2}\n",
      "{'_id': ObjectId('654f9e8f479ad1da822047b4'), 'title': 'Cách xử lý lông cho trắng bị ố vàng', 'postType': 'ARTICLE', 'visibility': 'PUBLIC', 'main_image': 'https://png.pngtree.com/background/20230607/original/pngtree-the-baby-kittens-look-at-the-camera-picture-image_2903605.jpg', 'intro': 'Chú chó trắng nhà bạn có bộ lông rất đẹp, nhưng theo thời gian nó cứ dần bị ố vàng và không còn trắng như trước đặc biệt là ở quanh vùng mắt, vùng miệng hoặc dưới bàn chân. Tại sao chú chó đáng yêu của bạn lại bị như vậy? Bạn phải làm thế nào để cải thiện tình trạng này? Hãy cùng NhaMeoShop.com tìm hiểu ngay sau đây. ', 'content': '<h2><strong>Tại sao lông chó trắng thường bị ố vàng?</strong></h2><p>Theo thời gian lông các chú chó thường bị ố vàng nhưng những chú chó có bộ lông màu trắng sẽ dễ dàng nhận biết hơn so với những chú chó có màu lông khác. Vậy nguyên nhân vì sao các chú chó thường bị như vậy?</p><p>– Màu ố vàng thường do các chất tự nhiên gọi là porphyrin, có trong nước mắt và nước bọt của chó gây nên. Chính vì vậy các vết ố vàng này thường xuất hiện ở vùng mắt và vùng miệng.&nbsp;</p><p>– Tiếp đến là nguyên nhân do đặc tính của loài chó là thích liếm lông. Khi các chú chó liếm lông, nước bọt từ miệng sẽ theo đó lên toàn bộ bộ lông gây lên màu ố vàng 🙁&nbsp;</p><p>Chính vì những nguyên nhân trên nếu chủ nuôi để chó vui đùa, lấm bẩn nhưng không thường xuyên tắm rửa cho chúng, lâu ngày sẽ tích tụ gây ra hiện tượng ố vàng từng vùng thường thấy ở chó.</p><p>&nbsp;</p><h2><strong>Làm thế nào để khắc phục tình trạng lông chó bị ố vàng</strong></h2><p>Nếu bạn có một chú chó có bộ lông màu trắng, sẽ rất có khăn để có thể giữ được chúng luôn trắng sạch. Tuy nhiên, bạn có thể khắc phục và cải thiện tình trạng này bằng một cách đơn giản, hiệu quả ngay tại nhà sau đây:</p><p>&nbsp;</p><ol><li>&nbsp;tắm rửa thường xuyên</li><li>chăm sóc lông thường xuyên</li><li>Chế độ ăn uống hợp lý</li></ol>', 'categories': ['Tắm', 'Đi dạo', 'Ăn uống'], 'createAt': datetime.datetime(2023, 11, 11, 15, 32, 31, 242000), 'numOfUpVote': 0, 'numOfDownVote': 0, 'numOfComment': 0, 'modifiedAt': None, 'owner_id': 8}\n"
     ]
    }
   ],
   "source": [
    "baiviets = BaiVietCOL.find({\n",
    "    \"postType\":'ARTICLE'\n",
    "})\n",
    "\n",
    "for x in baiviets:\n",
    "    print(x)"
   ]
  }
 ],
 "metadata": {
  "kernelspec": {
   "display_name": "Python 3 (ipykernel)",
   "language": "python",
   "name": "python3"
  },
  "language_info": {
   "codemirror_mode": {
    "name": "ipython",
    "version": 3
   },
   "file_extension": ".py",
   "mimetype": "text/x-python",
   "name": "python",
   "nbconvert_exporter": "python",
   "pygments_lexer": "ipython3",
   "version": "3.12.0"
  }
 },
 "nbformat": 4,
 "nbformat_minor": 5
}
