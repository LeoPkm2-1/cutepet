{
 "cells": [
  {
   "cell_type": "code",
   "execution_count": 1,
   "id": "c4fdeac8-75c8-4b2a-adb0-c0f24faceb2b",
   "metadata": {},
   "outputs": [],
   "source": [
    "import mysql.connector\n",
    "\n",
    "mydb = mysql.connector.connect(\n",
    "  host=\"localhost\",\n",
    "  user=\"admin\",\n",
    "  password=\"admin\",\n",
    "  database=\"cutepet_sql\"\n",
    ")\n",
    "\n",
    "mycursor = mydb.cursor()"
   ]
  },
  {
   "cell_type": "code",
   "execution_count": 2,
   "id": "5017ef7d-d47f-4bbd-917a-03bc74eff996",
   "metadata": {},
   "outputs": [],
   "source": [
    "from faker import Faker"
   ]
  },
  {
   "cell_type": "code",
   "execution_count": 3,
   "id": "ee324d6a-994c-4359-b321-f891b2941821",
   "metadata": {},
   "outputs": [],
   "source": [
    "fake =Faker()"
   ]
  },
  {
   "cell_type": "code",
   "execution_count": 4,
   "id": "06e1d149-883f-46a9-92a7-161b218d9644",
   "metadata": {},
   "outputs": [],
   "source": [
    "# For student id  \n",
    "from random import randint "
   ]
  },
  {
   "cell_type": "markdown",
   "id": "2ea31c2a-901f-4c15-a1ee-09c2cdb1998c",
   "metadata": {},
   "source": [
    "## 1. insert user"
   ]
  },
  {
   "cell_type": "markdown",
   "id": "153d3d29-7056-400d-bd3f-6f4566845e39",
   "metadata": {},
   "source": [
    "#### 1.1. delete old generated user"
   ]
  },
  {
   "cell_type": "code",
   "execution_count": 7,
   "id": "69ab1496-4834-47a8-9068-2bb5af8e3acf",
   "metadata": {},
   "outputs": [],
   "source": [
    "sql = 'delete from NguoiDung where ma_nguoi_dung = %s';\n",
    "for i in range(24,501):\n",
    "    mycursor.execute(sql, (i,))\n",
    "    mydb.commit()"
   ]
  },
  {
   "cell_type": "markdown",
   "id": "427153fa-71b3-4472-9d5e-3dd9bc71216f",
   "metadata": {},
   "source": [
    "#### 1.2. insert new generated user"
   ]
  },
  {
   "cell_type": "code",
   "execution_count": 125,
   "id": "bbe29b13-1ace-4f25-aa0f-1499df6e2d85",
   "metadata": {},
   "outputs": [],
   "source": [
    "sql_stmt = \"insert into NguoiDung (ma_nguoi_dung, ten, ngay_sinh, tai_khoan, email, so_dien_thoai,is_admin, gioi_tinh) values (%s, %s, %s, %s, %s, %s,%s, %s)\"\n",
    "\n",
    "for i in range(24,501):\n",
    "    ma_nguoi_dung = i\n",
    "    gioi_tinh = randint(0,1)\n",
    "    ten = fake.name_male() if gioi_tinh == 1 else fake.name_female()\n",
    "    ngay_sinh = fake.date_of_birth()\n",
    "    tai_khoan = ten.replace(\" \",\"\").lower()\n",
    "    email = tai_khoan+'@gnet.com'\n",
    "    so_dien_thoai = '11111'\n",
    "    is_admin = 0\n",
    "    data = (ma_nguoi_dung, ten, ngay_sinh,tai_khoan,email, so_dien_thoai, is_admin,gioi_tinh )\n",
    "    mycursor.execute(sql_stmt, data)\n",
    "    mydb.commit()\n",
    "\n",
    "    \n",
    "        \n",
    "    "
   ]
  },
  {
   "cell_type": "markdown",
   "id": "35924d5e-3cb6-4648-a990-a033261536d2",
   "metadata": {},
   "source": [
    "## 2. insert Friend ship"
   ]
  },
  {
   "cell_type": "markdown",
   "id": "6051773d-704f-4dd9-b796-75bbc112bef7",
   "metadata": {},
   "source": [
    "#### 2.1. delete all friend ship"
   ]
  },
  {
   "cell_type": "code",
   "execution_count": 114,
   "id": "5458f8b8-8f20-4757-9b8d-4850b50d9049",
   "metadata": {},
   "outputs": [
    {
     "data": {
      "text/plain": [
       "datetime.datetime(1979, 2, 8, 18, 37, 11, 278056)"
      ]
     },
     "execution_count": 114,
     "metadata": {},
     "output_type": "execute_result"
    }
   ],
   "source": [
    "fake.date_time()"
   ]
  },
  {
   "cell_type": "code",
   "execution_count": 6,
   "id": "e83c4153-5df8-49b6-9380-29835c9e21ed",
   "metadata": {},
   "outputs": [],
   "source": [
    "sql_stmt = 'delete from LaBanBe'\n",
    "mycursor.execute(sql_stmt)\n",
    "mydb.commit();"
   ]
  },
  {
   "cell_type": "code",
   "execution_count": 130,
   "id": "88ceff2a-fb6d-4385-afb1-5d8839c85176",
   "metadata": {},
   "outputs": [],
   "source": [
    "sql_stmt = 'insert into LaBanBe (ma_nguoi_dung_1,ma_nguoi_dung_2,ngay_bat_dau) values(%s,%s,%s)'\n",
    "\n",
    "for i in range(1,31):\n",
    "    for j in range(1,31):\n",
    "        if(i!=j):\n",
    "            ngay_bat_dau = fake.date_time_this_decade()\n",
    "            mycursor.execute(sql_stmt,(i,j,ngay_bat_dau))\n",
    "            # mycursor.execute(sql_stmt,(j,i))\n",
    "            mydb.commit();\n",
    "        \n",
    "        "
   ]
  },
  {
   "cell_type": "markdown",
   "id": "2b671cdd-8144-4727-b95e-5baaf76eebff",
   "metadata": {},
   "source": [
    "## insert request add friend"
   ]
  },
  {
   "cell_type": "code",
   "execution_count": null,
   "id": "fb4eb998-e331-493e-993b-025a8c9ab51d",
   "metadata": {},
   "outputs": [],
   "source": []
  },
  {
   "cell_type": "code",
   "execution_count": null,
   "id": "1fbe04d1-8660-4903-8163-2226da85f095",
   "metadata": {},
   "outputs": [],
   "source": []
  }
 ],
 "metadata": {
  "kernelspec": {
   "display_name": "Python 3 (ipykernel)",
   "language": "python",
   "name": "python3"
  },
  "language_info": {
   "codemirror_mode": {
    "name": "ipython",
    "version": 3
   },
   "file_extension": ".py",
   "mimetype": "text/x-python",
   "name": "python",
   "nbconvert_exporter": "python",
   "pygments_lexer": "ipython3",
   "version": "3.12.0"
  }
 },
 "nbformat": 4,
 "nbformat_minor": 5
}
